{
 "cells": [
  {
   "cell_type": "code",
   "execution_count": 70,
   "id": "f52d2077",
   "metadata": {},
   "outputs": [],
   "source": [
    "import pandas as pd\n",
    "import numpy as np"
   ]
  },
  {
   "cell_type": "code",
   "execution_count": 71,
   "id": "7ca15aa7",
   "metadata": {},
   "outputs": [
    {
     "data": {
      "text/html": [
       "<div>\n",
       "<style scoped>\n",
       "    .dataframe tbody tr th:only-of-type {\n",
       "        vertical-align: middle;\n",
       "    }\n",
       "\n",
       "    .dataframe tbody tr th {\n",
       "        vertical-align: top;\n",
       "    }\n",
       "\n",
       "    .dataframe thead th {\n",
       "        text-align: right;\n",
       "    }\n",
       "</style>\n",
       "<table border=\"1\" class=\"dataframe\">\n",
       "  <thead>\n",
       "    <tr style=\"text-align: right;\">\n",
       "      <th></th>\n",
       "      <th>인허가일자</th>\n",
       "      <th>영업상태명</th>\n",
       "      <th>상세영업상태코드</th>\n",
       "      <th>상세영업상태명</th>\n",
       "      <th>폐업일자</th>\n",
       "      <th>소재지면적</th>\n",
       "      <th>지번주소</th>\n",
       "      <th>도로명주소</th>\n",
       "      <th>사업장명</th>\n",
       "      <th>업태구분명</th>\n",
       "      <th>long</th>\n",
       "      <th>lat</th>\n",
       "    </tr>\n",
       "  </thead>\n",
       "  <tbody>\n",
       "    <tr>\n",
       "      <th>0</th>\n",
       "      <td>20200713</td>\n",
       "      <td>영업/정상</td>\n",
       "      <td>1</td>\n",
       "      <td>영업</td>\n",
       "      <td>NaN</td>\n",
       "      <td>329.89</td>\n",
       "      <td>서울특별시 송파구 방이동 44-3 현대토픽스</td>\n",
       "      <td>서울특별시 송파구 위례성대로 6 1층 (방이동)</td>\n",
       "      <td>스타벅스 몽촌토성역점</td>\n",
       "      <td>커피숍</td>\n",
       "      <td>127.113106</td>\n",
       "      <td>37.516942</td>\n",
       "    </tr>\n",
       "    <tr>\n",
       "      <th>1</th>\n",
       "      <td>20200713</td>\n",
       "      <td>영업/정상</td>\n",
       "      <td>1</td>\n",
       "      <td>영업</td>\n",
       "      <td>NaN</td>\n",
       "      <td>26.00</td>\n",
       "      <td>서울특별시 동대문구 전농동 38-104</td>\n",
       "      <td>서울특별시 동대문구 전농로16길 54 1층 (전농동)</td>\n",
       "      <td>Min's coffee</td>\n",
       "      <td>커피숍</td>\n",
       "      <td>127.060378</td>\n",
       "      <td>37.578112</td>\n",
       "    </tr>\n",
       "    <tr>\n",
       "      <th>2</th>\n",
       "      <td>20200713</td>\n",
       "      <td>영업/정상</td>\n",
       "      <td>1</td>\n",
       "      <td>영업</td>\n",
       "      <td>NaN</td>\n",
       "      <td>15.46</td>\n",
       "      <td>서울특별시 강서구 마곡동 773 힐스테이트에코마곡역 302호</td>\n",
       "      <td>서울특별시 강서구 마곡중앙로 76 힐스테이트에코마곡역 3층 302호 (마곡동)</td>\n",
       "      <td>티오르카페</td>\n",
       "      <td>커피숍</td>\n",
       "      <td>126.827523</td>\n",
       "      <td>37.560416</td>\n",
       "    </tr>\n",
       "    <tr>\n",
       "      <th>3</th>\n",
       "      <td>20200713</td>\n",
       "      <td>영업/정상</td>\n",
       "      <td>1</td>\n",
       "      <td>영업</td>\n",
       "      <td>NaN</td>\n",
       "      <td>13.20</td>\n",
       "      <td>서울특별시 관악구 신림동 608-30</td>\n",
       "      <td>서울특별시 관악구 난우길 20 지하1층 (신림동)</td>\n",
       "      <td>애견용품할인매장</td>\n",
       "      <td>커피숍</td>\n",
       "      <td>126.918645</td>\n",
       "      <td>37.474780</td>\n",
       "    </tr>\n",
       "    <tr>\n",
       "      <th>4</th>\n",
       "      <td>20200713</td>\n",
       "      <td>영업/정상</td>\n",
       "      <td>1</td>\n",
       "      <td>영업</td>\n",
       "      <td>NaN</td>\n",
       "      <td>247.50</td>\n",
       "      <td>서울특별시 성북구 성북동 8-28</td>\n",
       "      <td>서울특별시 성북구 선잠로2다길 13-13 지하1층 (성북동)</td>\n",
       "      <td>오버스토리</td>\n",
       "      <td>커피숍</td>\n",
       "      <td>126.999678</td>\n",
       "      <td>37.598753</td>\n",
       "    </tr>\n",
       "    <tr>\n",
       "      <th>...</th>\n",
       "      <td>...</td>\n",
       "      <td>...</td>\n",
       "      <td>...</td>\n",
       "      <td>...</td>\n",
       "      <td>...</td>\n",
       "      <td>...</td>\n",
       "      <td>...</td>\n",
       "      <td>...</td>\n",
       "      <td>...</td>\n",
       "      <td>...</td>\n",
       "      <td>...</td>\n",
       "      <td>...</td>\n",
       "    </tr>\n",
       "    <tr>\n",
       "      <th>48490</th>\n",
       "      <td>20190503</td>\n",
       "      <td>폐업</td>\n",
       "      <td>2</td>\n",
       "      <td>폐업</td>\n",
       "      <td>20200803.0</td>\n",
       "      <td>52.67</td>\n",
       "      <td>서울특별시용산구효창동13-2</td>\n",
       "      <td>서울특별시 용산구 백범로 313 지하3층 113호 (효창동 용산 롯데캐슬 센터포레)</td>\n",
       "      <td>카페 다(Cafe DA)</td>\n",
       "      <td>기타 휴게음식점</td>\n",
       "      <td>126.963058</td>\n",
       "      <td>37.539195</td>\n",
       "    </tr>\n",
       "    <tr>\n",
       "      <th>48491</th>\n",
       "      <td>20161226</td>\n",
       "      <td>영업/정상</td>\n",
       "      <td>1</td>\n",
       "      <td>영업</td>\n",
       "      <td>NaN</td>\n",
       "      <td>68.69</td>\n",
       "      <td>서울특별시광진구화양동17-48</td>\n",
       "      <td>서울특별시 광진구 군자로7길 4 1층 101102호 (화양동)</td>\n",
       "      <td>베이글카페</td>\n",
       "      <td>기타 휴게음식점</td>\n",
       "      <td>127.069862</td>\n",
       "      <td>37.546537</td>\n",
       "    </tr>\n",
       "    <tr>\n",
       "      <th>48492</th>\n",
       "      <td>20120716</td>\n",
       "      <td>폐업</td>\n",
       "      <td>2</td>\n",
       "      <td>폐업</td>\n",
       "      <td>20200320.0</td>\n",
       "      <td>11.00</td>\n",
       "      <td>서울특별시종로구관철동44</td>\n",
       "      <td>NaN</td>\n",
       "      <td>C cafe 종각점</td>\n",
       "      <td>기타 휴게음식점</td>\n",
       "      <td>126.983928</td>\n",
       "      <td>37.569397</td>\n",
       "    </tr>\n",
       "    <tr>\n",
       "      <th>48493</th>\n",
       "      <td>20190919</td>\n",
       "      <td>영업/정상</td>\n",
       "      <td>1</td>\n",
       "      <td>영업</td>\n",
       "      <td>NaN</td>\n",
       "      <td>57.72</td>\n",
       "      <td>서울특별시마포구신수동93-102</td>\n",
       "      <td>서울특별시 마포구 광성로 17 1층 118호 (신수동 신촌숲아이파크)</td>\n",
       "      <td>이디야 신촌숲아이파크점</td>\n",
       "      <td>기타 휴게음식점</td>\n",
       "      <td>126.934678</td>\n",
       "      <td>37.550913</td>\n",
       "    </tr>\n",
       "    <tr>\n",
       "      <th>48494</th>\n",
       "      <td>20100920</td>\n",
       "      <td>폐업</td>\n",
       "      <td>2</td>\n",
       "      <td>폐업</td>\n",
       "      <td>20140212.0</td>\n",
       "      <td>165.91</td>\n",
       "      <td>서울특별시송파구문정동516</td>\n",
       "      <td>서울특별시 송파구 충민로 66 (문정동 가든파이브 가블럭 T-B1070 T-B1071 )</td>\n",
       "      <td>엔제리너스 가든파이브점</td>\n",
       "      <td>기타 휴게음식점</td>\n",
       "      <td>127.124998</td>\n",
       "      <td>37.477578</td>\n",
       "    </tr>\n",
       "  </tbody>\n",
       "</table>\n",
       "<p>48495 rows × 12 columns</p>\n",
       "</div>"
      ],
      "text/plain": [
       "          인허가일자  영업상태명  상세영업상태코드 상세영업상태명        폐업일자   소재지면적  \\\n",
       "0      20200713  영업/정상         1      영업         NaN  329.89   \n",
       "1      20200713  영업/정상         1      영업         NaN   26.00   \n",
       "2      20200713  영업/정상         1      영업         NaN   15.46   \n",
       "3      20200713  영업/정상         1      영업         NaN   13.20   \n",
       "4      20200713  영업/정상         1      영업         NaN  247.50   \n",
       "...         ...    ...       ...     ...         ...     ...   \n",
       "48490  20190503     폐업         2      폐업  20200803.0   52.67   \n",
       "48491  20161226  영업/정상         1      영업         NaN   68.69   \n",
       "48492  20120716     폐업         2      폐업  20200320.0   11.00   \n",
       "48493  20190919  영업/정상         1      영업         NaN   57.72   \n",
       "48494  20100920     폐업         2      폐업  20140212.0  165.91   \n",
       "\n",
       "                                    지번주소  \\\n",
       "0               서울특별시 송파구 방이동 44-3 현대토픽스   \n",
       "1                  서울특별시 동대문구 전농동 38-104   \n",
       "2      서울특별시 강서구 마곡동 773 힐스테이트에코마곡역 302호   \n",
       "3                   서울특별시 관악구 신림동 608-30   \n",
       "4                     서울특별시 성북구 성북동 8-28   \n",
       "...                                  ...   \n",
       "48490                    서울특별시용산구효창동13-2   \n",
       "48491                   서울특별시광진구화양동17-48   \n",
       "48492                      서울특별시종로구관철동44   \n",
       "48493                  서울특별시마포구신수동93-102   \n",
       "48494                     서울특별시송파구문정동516   \n",
       "\n",
       "                                                   도로명주소           사업장명  \\\n",
       "0                             서울특별시 송파구 위례성대로 6 1층 (방이동)    스타벅스 몽촌토성역점   \n",
       "1                          서울특별시 동대문구 전농로16길 54 1층 (전농동)   Min's coffee   \n",
       "2            서울특별시 강서구 마곡중앙로 76 힐스테이트에코마곡역 3층 302호 (마곡동)          티오르카페   \n",
       "3                            서울특별시 관악구 난우길 20 지하1층 (신림동)       애견용품할인매장   \n",
       "4                      서울특별시 성북구 선잠로2다길 13-13 지하1층 (성북동)          오버스토리   \n",
       "...                                                  ...            ...   \n",
       "48490     서울특별시 용산구 백범로 313 지하3층 113호 (효창동 용산 롯데캐슬 센터포레)  카페 다(Cafe DA)   \n",
       "48491                 서울특별시 광진구 군자로7길 4 1층 101102호 (화양동)          베이글카페   \n",
       "48492                                                NaN     C cafe 종각점   \n",
       "48493             서울특별시 마포구 광성로 17 1층 118호 (신수동 신촌숲아이파크)   이디야 신촌숲아이파크점   \n",
       "48494  서울특별시 송파구 충민로 66 (문정동 가든파이브 가블럭 T-B1070 T-B1071 )   엔제리너스 가든파이브점   \n",
       "\n",
       "          업태구분명        long        lat  \n",
       "0           커피숍  127.113106  37.516942  \n",
       "1           커피숍  127.060378  37.578112  \n",
       "2           커피숍  126.827523  37.560416  \n",
       "3           커피숍  126.918645  37.474780  \n",
       "4           커피숍  126.999678  37.598753  \n",
       "...         ...         ...        ...  \n",
       "48490  기타 휴게음식점  126.963058  37.539195  \n",
       "48491  기타 휴게음식점  127.069862  37.546537  \n",
       "48492  기타 휴게음식점  126.983928  37.569397  \n",
       "48493  기타 휴게음식점  126.934678  37.550913  \n",
       "48494  기타 휴게음식점  127.124998  37.477578  \n",
       "\n",
       "[48495 rows x 12 columns]"
      ]
     },
     "execution_count": 71,
     "metadata": {},
     "output_type": "execute_result"
    }
   ],
   "source": [
    "df = pd.read_csv(\"seoul_coffee_ver03.csv\", encoding='cp949')\n",
    "df"
   ]
  },
  {
   "cell_type": "markdown",
   "id": "e96e7bf4",
   "metadata": {},
   "source": [
    "## 해당 글자가 포함된 사업장명 인덱스 함수 정의"
   ]
  },
  {
   "cell_type": "code",
   "execution_count": 72,
   "id": "93f7fc8b",
   "metadata": {},
   "outputs": [],
   "source": [
    "def s_str(data):\n",
    "    global df\n",
    "    select_index = df[df['사업장명'].str.contains(data)].index\n",
    "    print(select_index)\n",
    "    df = df.drop(index=select_index)\n",
    "    print(df.shape)"
   ]
  },
  {
   "cell_type": "code",
   "execution_count": 73,
   "id": "9f09829f",
   "metadata": {},
   "outputs": [
    {
     "data": {
      "text/plain": [
       "(48495, 12)"
      ]
     },
     "execution_count": 73,
     "metadata": {},
     "output_type": "execute_result"
    }
   ],
   "source": [
    "df.shape"
   ]
  },
  {
   "cell_type": "markdown",
   "id": "2087239d",
   "metadata": {},
   "source": [
    "### df 사업장명중 애견 글자가 들어간 행 삭제"
   ]
  },
  {
   "cell_type": "code",
   "execution_count": 74,
   "id": "545fbf8b",
   "metadata": {
    "scrolled": true
   },
   "outputs": [
    {
     "name": "stdout",
     "output_type": "stream",
     "text": [
      "Int64Index([    3,  4236,  5554,  7333, 12045, 20740, 22375, 23775, 25621,\n",
      "            44387, 44394, 44601, 45075],\n",
      "           dtype='int64')\n",
      "(48482, 12)\n"
     ]
    }
   ],
   "source": [
    "s_str('애견')"
   ]
  },
  {
   "cell_type": "markdown",
   "id": "f3d1b8fb",
   "metadata": {},
   "source": [
    "### df 사업장명중 국수 글자가 들어간 행 삭제"
   ]
  },
  {
   "cell_type": "code",
   "execution_count": 75,
   "id": "0acf35af",
   "metadata": {
    "scrolled": true
   },
   "outputs": [
    {
     "name": "stdout",
     "output_type": "stream",
     "text": [
      "Int64Index([17, 1829, 8859, 14600, 15244, 15283, 18213], dtype='int64')\n",
      "(48475, 12)\n"
     ]
    }
   ],
   "source": [
    "s_str('국수')"
   ]
  },
  {
   "cell_type": "markdown",
   "id": "76d12945",
   "metadata": {},
   "source": [
    "### df 사업장명중 베이글 글자가 들어간 행 삭제"
   ]
  },
  {
   "cell_type": "code",
   "execution_count": 76,
   "id": "b48c078a",
   "metadata": {},
   "outputs": [
    {
     "name": "stdout",
     "output_type": "stream",
     "text": [
      "Int64Index([   26,   253,   989,  1138,  1386,  2057,  2222,  2317,  2934,\n",
      "             3409,  5902,  6179,  7489,  7496,  9171,  9300,  9939,  9979,\n",
      "            10125, 13132, 14519, 15380, 15469, 16317, 17069, 23991, 25757,\n",
      "            25965, 26298, 26484, 27990, 28054, 28587, 34013, 36870, 44382,\n",
      "            44820, 48491],\n",
      "           dtype='int64')\n",
      "(48437, 12)\n"
     ]
    }
   ],
   "source": [
    "s_str('베이글')"
   ]
  },
  {
   "cell_type": "markdown",
   "id": "feaca9bd",
   "metadata": {},
   "source": [
    "### df 사업장명중 토스트 글자가 들어간 행 삭제"
   ]
  },
  {
   "cell_type": "code",
   "execution_count": 77,
   "id": "45affa9c",
   "metadata": {},
   "outputs": [
    {
     "name": "stdout",
     "output_type": "stream",
     "text": [
      "Int64Index([   36,   318,  1526,  2127,  3363,  4446,  8956,  9973, 10765,\n",
      "            11313, 11688, 13104, 14080, 14814, 15361, 15410, 15457, 18406,\n",
      "            18538, 19545, 19568, 20466, 21304, 21399, 21688, 22700, 22807,\n",
      "            23304, 24187, 25407, 25579, 27657, 28209, 33998, 39683, 43531,\n",
      "            43791, 43847, 44486, 45001, 45063, 45253],\n",
      "           dtype='int64')\n",
      "(48395, 12)\n"
     ]
    }
   ],
   "source": [
    "s_str('토스트')"
   ]
  },
  {
   "cell_type": "markdown",
   "id": "fc623764",
   "metadata": {},
   "source": [
    "### df 사업장명중 베이커리 글자가 들어간 행 삭제"
   ]
  },
  {
   "cell_type": "code",
   "execution_count": 78,
   "id": "3e900dc0",
   "metadata": {},
   "outputs": [
    {
     "name": "stdout",
     "output_type": "stream",
     "text": [
      "Int64Index([   46,   335,   495,   521,  1083,  1187,  1618,  2492,  2659,\n",
      "             2730,  3376,  3534,  3721,  4610,  4821,  5445,  5468,  5969,\n",
      "             6348,  7136,  7140,  7907,  8126,  8410,  8612,  8812, 11240,\n",
      "            11504, 12155, 12945, 12946, 13295, 13596, 13660, 16026, 16770,\n",
      "            17116, 17242, 17473, 18198, 20599, 21738, 22197, 22201, 22556,\n",
      "            23089, 23219, 23816, 23864, 24342, 24366, 24495, 24590, 24632,\n",
      "            24789, 24946, 25176, 25506, 25528, 25862, 25970, 27200, 27874,\n",
      "            27875, 28058, 28171, 28873, 30742, 32939, 34845, 38377, 39753,\n",
      "            42958, 43779, 43835, 44050, 44519, 44594, 44599, 44657, 44692,\n",
      "            44770, 44921, 44951, 45247, 45329, 46018, 46153, 46384],\n",
      "           dtype='int64')\n",
      "(48306, 12)\n"
     ]
    }
   ],
   "source": [
    "s_str('베이커리')"
   ]
  },
  {
   "cell_type": "markdown",
   "id": "0ca03e36",
   "metadata": {},
   "source": [
    "### df 사업장명중 쿠킹 글자가 들어간 행 삭제"
   ]
  },
  {
   "cell_type": "code",
   "execution_count": 79,
   "id": "fa87472a",
   "metadata": {},
   "outputs": [
    {
     "name": "stdout",
     "output_type": "stream",
     "text": [
      "Int64Index([199, 5723, 6794, 7286, 12403, 12702, 16416, 16761, 21164, 25177], dtype='int64')\n",
      "(48296, 12)\n"
     ]
    }
   ],
   "source": [
    "s_str('쿠킹')"
   ]
  },
  {
   "cell_type": "markdown",
   "id": "ac4c9c20",
   "metadata": {},
   "source": [
    "### df 사업장명중 핫도그 글자가 들어간 행 삭제"
   ]
  },
  {
   "cell_type": "code",
   "execution_count": 80,
   "id": "f50e94a2",
   "metadata": {},
   "outputs": [
    {
     "name": "stdout",
     "output_type": "stream",
     "text": [
      "Int64Index([  267,   961,  1075,  3911,  4036,  4308,  4816,  5420,  5475,\n",
      "             6831,  7301,  7541,  7869,  8471,  8665,  8805, 12300, 12883,\n",
      "            13116, 13391, 15274, 16441, 19739, 20427, 21422, 26057, 28147,\n",
      "            28765, 41821, 43725, 43964, 44058, 44121, 44374, 45445, 45740,\n",
      "            46159, 48473],\n",
      "           dtype='int64')\n",
      "(48258, 12)\n"
     ]
    }
   ],
   "source": [
    "s_str('핫도그')"
   ]
  },
  {
   "cell_type": "markdown",
   "id": "68d6f5cd",
   "metadata": {},
   "source": [
    "### df 사업장명중 쓰리팝 글자가 들어간 행 삭제"
   ]
  },
  {
   "cell_type": "code",
   "execution_count": 81,
   "id": "162ca708",
   "metadata": {},
   "outputs": [
    {
     "name": "stdout",
     "output_type": "stream",
     "text": [
      "Int64Index([517, 2940, 9586, 15127, 16938, 20051, 22656, 23695, 44631, 44749,\n",
      "            44750, 45127],\n",
      "           dtype='int64')\n",
      "(48246, 12)\n"
     ]
    }
   ],
   "source": [
    "s_str('쓰리팝')"
   ]
  },
  {
   "cell_type": "markdown",
   "id": "de5d5801",
   "metadata": {},
   "source": [
    "### df 사업장명중 만화 글자가 들어간 행 삭제"
   ]
  },
  {
   "cell_type": "code",
   "execution_count": 82,
   "id": "3875bbbf",
   "metadata": {},
   "outputs": [
    {
     "name": "stdout",
     "output_type": "stream",
     "text": [
      "Int64Index([  689, 13502, 13591, 15876, 31427, 33876, 35544, 42425, 44414,\n",
      "            44494, 44512, 44651, 44670, 44677, 44681, 44698, 44699, 44763,\n",
      "            44828, 44871, 44919, 45066, 45623],\n",
      "           dtype='int64')\n",
      "(48223, 12)\n"
     ]
    }
   ],
   "source": [
    "s_str('만화')"
   ]
  },
  {
   "cell_type": "markdown",
   "id": "e9562a71",
   "metadata": {},
   "source": [
    "### df 사업장명중 GS25 글자가 들어간 행 삭제"
   ]
  },
  {
   "cell_type": "code",
   "execution_count": 83,
   "id": "49b2fc5f",
   "metadata": {},
   "outputs": [
    {
     "name": "stdout",
     "output_type": "stream",
     "text": [
      "Int64Index([  376,   567,   674,   702,   785,   852,  1141,  1183,  1235,\n",
      "             1342,  1668,  1880,  5109,  7131,  7844,  8525,  8938,  8944,\n",
      "             9357,  9410,  9652, 10704, 10819, 12138, 12139, 12163, 12235,\n",
      "            13129, 13570, 13580, 13982, 16977, 17982, 21314, 23475, 23598,\n",
      "            23759, 25544, 26710, 28869, 29665, 46060],\n",
      "           dtype='int64')\n",
      "(48181, 12)\n"
     ]
    }
   ],
   "source": [
    "s_str('GS25')"
   ]
  },
  {
   "cell_type": "markdown",
   "id": "ecddac9f",
   "metadata": {},
   "source": [
    "### df 사업장명중 CU 글자가 들어간 행 삭제"
   ]
  },
  {
   "cell_type": "code",
   "execution_count": 84,
   "id": "2386f42e",
   "metadata": {},
   "outputs": [
    {
     "name": "stdout",
     "output_type": "stream",
     "text": [
      "Int64Index([  308,   947,  1832,  1919,  3459,  3697,  6403,  7141,  7770,\n",
      "             8701,  9005,  9276,  9415,  9468,  9487,  9664, 10302, 10705,\n",
      "            12245, 12446, 12800, 13361, 13774, 13963, 15598, 15648, 16106,\n",
      "            17440, 17817, 18486, 18488, 19676, 19792, 20982, 21449, 21873,\n",
      "            22165, 22810, 23026, 25957, 26404, 42467, 44655, 45211, 46110],\n",
      "           dtype='int64')\n",
      "(48136, 12)\n"
     ]
    }
   ],
   "source": [
    "s_str('CU')"
   ]
  },
  {
   "cell_type": "markdown",
   "id": "9f750cce",
   "metadata": {},
   "source": [
    "### df 사업장명중 BBQ 글자가 들어간 행 삭제"
   ]
  },
  {
   "cell_type": "code",
   "execution_count": 85,
   "id": "7dca52d9",
   "metadata": {},
   "outputs": [
    {
     "name": "stdout",
     "output_type": "stream",
     "text": [
      "Int64Index([1052], dtype='int64')\n",
      "(48135, 12)\n"
     ]
    }
   ],
   "source": [
    "s_str('BBQ')"
   ]
  },
  {
   "cell_type": "markdown",
   "id": "151afee4",
   "metadata": {},
   "source": [
    "### df 사업장명중 빵집 글자가 들어간 행 삭제"
   ]
  },
  {
   "cell_type": "code",
   "execution_count": 86,
   "id": "aca580ee",
   "metadata": {},
   "outputs": [
    {
     "name": "stdout",
     "output_type": "stream",
     "text": [
      "Int64Index([1411, 19849, 22188, 23326, 45365], dtype='int64')\n",
      "(48130, 12)\n"
     ]
    }
   ],
   "source": [
    "s_str('빵집')"
   ]
  },
  {
   "cell_type": "markdown",
   "id": "4517b2e8",
   "metadata": {},
   "source": [
    "### df 사업장명중 스낵 글자가 들어간 행 삭제"
   ]
  },
  {
   "cell_type": "code",
   "execution_count": 87,
   "id": "bc6431d4",
   "metadata": {},
   "outputs": [
    {
     "name": "stdout",
     "output_type": "stream",
     "text": [
      "Int64Index([1491, 7999, 12782, 21701, 21753, 22906, 25351, 44472], dtype='int64')\n",
      "(48122, 12)\n"
     ]
    }
   ],
   "source": [
    "s_str('스낵')"
   ]
  },
  {
   "cell_type": "markdown",
   "id": "581daf65",
   "metadata": {},
   "source": [
    "### df 사업장명중 애니카페 글자가 들어간 행 삭제"
   ]
  },
  {
   "cell_type": "code",
   "execution_count": 88,
   "id": "8573c2aa",
   "metadata": {},
   "outputs": [
    {
     "name": "stdout",
     "output_type": "stream",
     "text": [
      "Int64Index([1538], dtype='int64')\n",
      "(48121, 12)\n"
     ]
    }
   ],
   "source": [
    "s_str('애니카페')"
   ]
  },
  {
   "cell_type": "markdown",
   "id": "2179298b",
   "metadata": {},
   "source": [
    "### df 사업장명중 휘트니스 글자가 들어간 행 삭제"
   ]
  },
  {
   "cell_type": "code",
   "execution_count": 89,
   "id": "d6efaf99",
   "metadata": {},
   "outputs": [
    {
     "name": "stdout",
     "output_type": "stream",
     "text": [
      "Int64Index([1712, 3502, 13668, 15516, 15990, 20396, 20866, 24094, 30027], dtype='int64')\n",
      "(48112, 12)\n"
     ]
    }
   ],
   "source": [
    "s_str('휘트니스')"
   ]
  },
  {
   "cell_type": "markdown",
   "id": "557f5a33",
   "metadata": {},
   "source": [
    "### df 사업장명중 백미당 글자가 들어간 행 삭제"
   ]
  },
  {
   "cell_type": "code",
   "execution_count": 90,
   "id": "a4b237fa",
   "metadata": {},
   "outputs": [
    {
     "name": "stdout",
     "output_type": "stream",
     "text": [
      "Int64Index([  556,  1531,  1723,  2374,  8659,  9813, 11464, 12416, 12625,\n",
      "            14278, 14543, 14640, 15589, 16577, 17672, 17999, 18745, 19305,\n",
      "            20374, 20519, 21177, 26819, 46398],\n",
      "           dtype='int64')\n",
      "(48089, 12)\n"
     ]
    }
   ],
   "source": [
    "s_str('백미당')"
   ]
  },
  {
   "cell_type": "markdown",
   "id": "917d7fd0",
   "metadata": {},
   "source": [
    "### df 사업장명중 아이스크림 글자가 들어간 행 삭제"
   ]
  },
  {
   "cell_type": "code",
   "execution_count": 91,
   "id": "d9b9d2a4",
   "metadata": {},
   "outputs": [
    {
     "name": "stdout",
     "output_type": "stream",
     "text": [
      "Int64Index([1772, 2208, 25833, 33865, 34972], dtype='int64')\n",
      "(48084, 12)\n"
     ]
    }
   ],
   "source": [
    "s_str('아이스크림')"
   ]
  },
  {
   "cell_type": "markdown",
   "id": "fb889848",
   "metadata": {},
   "source": [
    "### df 사업장명중 꽃방 글자가 들어간 행 삭제"
   ]
  },
  {
   "cell_type": "code",
   "execution_count": 92,
   "id": "b6ec780d",
   "metadata": {},
   "outputs": [
    {
     "name": "stdout",
     "output_type": "stream",
     "text": [
      "Int64Index([1776], dtype='int64')\n",
      "(48083, 12)\n"
     ]
    }
   ],
   "source": [
    "s_str('꽃방')"
   ]
  },
  {
   "cell_type": "markdown",
   "id": "6d3116df",
   "metadata": {},
   "source": [
    "### df 사업장명중 봉구스 글자가 들어간 행 삭제"
   ]
  },
  {
   "cell_type": "code",
   "execution_count": 93,
   "id": "b663ddee",
   "metadata": {},
   "outputs": [
    {
     "name": "stdout",
     "output_type": "stream",
     "text": [
      "Int64Index([1874, 14441, 15746], dtype='int64')\n",
      "(48080, 12)\n"
     ]
    }
   ],
   "source": [
    "s_str('봉구스')"
   ]
  },
  {
   "cell_type": "markdown",
   "id": "ba952022",
   "metadata": {},
   "source": [
    "### df 사업장명중 버거 글자가 들어간 행 삭제"
   ]
  },
  {
   "cell_type": "code",
   "execution_count": 94,
   "id": "544e0df7",
   "metadata": {},
   "outputs": [
    {
     "name": "stdout",
     "output_type": "stream",
     "text": [
      "Int64Index([ 1369,  2145,  2423,  2464,  2608,  2631,  4837,  5334,  7573,\n",
      "            17679, 18461, 25222, 25550, 27028, 39267, 47588],\n",
      "           dtype='int64')\n",
      "(48064, 12)\n"
     ]
    }
   ],
   "source": [
    "s_str('버거')"
   ]
  },
  {
   "cell_type": "markdown",
   "id": "2bdce7c8",
   "metadata": {},
   "source": [
    "### df 사업장명중 던킨 글자가 들어간 행 삭제"
   ]
  },
  {
   "cell_type": "code",
   "execution_count": 95,
   "id": "0452edda",
   "metadata": {},
   "outputs": [
    {
     "name": "stdout",
     "output_type": "stream",
     "text": [
      "Int64Index([ 2076,  5757, 10574, 13130, 14215, 14650, 17108, 17316, 19729,\n",
      "            23073, 23170, 23277, 24488, 24712, 24851, 27319, 38829, 39852,\n",
      "            40249, 41108, 41156, 41773, 42398],\n",
      "           dtype='int64')\n",
      "(48041, 12)\n"
     ]
    }
   ],
   "source": [
    "s_str('던킨')"
   ]
  },
  {
   "cell_type": "markdown",
   "id": "fd25d15c",
   "metadata": {},
   "source": [
    "### df 사업장명중 로티보이 글자가 들어간 행 삭제"
   ]
  },
  {
   "cell_type": "code",
   "execution_count": 96,
   "id": "56a98a87",
   "metadata": {},
   "outputs": [
    {
     "name": "stdout",
     "output_type": "stream",
     "text": [
      "Int64Index([ 2097,  2352,  2544,  2860,  5281,  9165, 10843, 11006, 11626,\n",
      "            13837, 15158, 15223, 22725, 25245, 40153, 40304, 45726],\n",
      "           dtype='int64')\n",
      "(48024, 12)\n"
     ]
    }
   ],
   "source": [
    "s_str('로티보이')"
   ]
  },
  {
   "cell_type": "markdown",
   "id": "17d60b27",
   "metadata": {},
   "source": [
    "### df 사업장명중 고로케 글자가 들어간 행 삭제"
   ]
  },
  {
   "cell_type": "code",
   "execution_count": 97,
   "id": "43217330",
   "metadata": {},
   "outputs": [
    {
     "name": "stdout",
     "output_type": "stream",
     "text": [
      "Int64Index([2184, 3035, 8261, 12111, 13509, 14975, 18924, 42318], dtype='int64')\n",
      "(48016, 12)\n"
     ]
    }
   ],
   "source": [
    "s_str('고로케')"
   ]
  },
  {
   "cell_type": "markdown",
   "id": "584c87e0",
   "metadata": {},
   "source": [
    "### df 사업장명중 웹툰 글자가 들어간 행 삭제"
   ]
  },
  {
   "cell_type": "code",
   "execution_count": 98,
   "id": "521b1805",
   "metadata": {},
   "outputs": [
    {
     "name": "stdout",
     "output_type": "stream",
     "text": [
      "Int64Index([2347], dtype='int64')\n",
      "(48015, 12)\n"
     ]
    }
   ],
   "source": [
    "s_str('웹툰')"
   ]
  },
  {
   "cell_type": "markdown",
   "id": "2085ccc2",
   "metadata": {},
   "source": [
    "### df 사업장명중 매점 글자가 들어간 행 삭제"
   ]
  },
  {
   "cell_type": "code",
   "execution_count": 99,
   "id": "3b55d718",
   "metadata": {},
   "outputs": [
    {
     "name": "stdout",
     "output_type": "stream",
     "text": [
      "Int64Index([  319,  1349,  2354,  2520,  5246,  6493,  6776,  6876,  9603,\n",
      "            11227, 11295, 12147, 12420, 13456, 13462, 13908, 15048, 15400,\n",
      "            15655, 15670, 15675, 15688, 15726, 15760, 15827, 16002, 16159,\n",
      "            16218, 16297, 22015, 22326, 22404, 22965, 23445, 23622, 25356,\n",
      "            26993, 28165, 31141, 31151],\n",
      "           dtype='int64')\n",
      "(47975, 12)\n"
     ]
    }
   ],
   "source": [
    "s_str('매점')"
   ]
  },
  {
   "cell_type": "markdown",
   "id": "f3df11e4",
   "metadata": {},
   "source": [
    "### df 사업장명중 김밥 글자가 들어간 행 삭제"
   ]
  },
  {
   "cell_type": "code",
   "execution_count": 100,
   "id": "24c3721b",
   "metadata": {},
   "outputs": [
    {
     "name": "stdout",
     "output_type": "stream",
     "text": [
      "Int64Index([ 1125,  2381,  5658,  6330,  6727,  9504, 13322, 18236, 20303,\n",
      "            21974, 26672, 26868, 27698, 43975, 44881, 45058, 45065, 46658],\n",
      "           dtype='int64')\n",
      "(47957, 12)\n"
     ]
    }
   ],
   "source": [
    "s_str('김밥')"
   ]
  },
  {
   "cell_type": "markdown",
   "id": "d0a52db7",
   "metadata": {},
   "source": [
    "### df 사업장명중 붕어빵 글자가 들어간 행 삭제"
   ]
  },
  {
   "cell_type": "code",
   "execution_count": 101,
   "id": "3ac3ae42",
   "metadata": {},
   "outputs": [
    {
     "name": "stdout",
     "output_type": "stream",
     "text": [
      "Int64Index([2448, 18708], dtype='int64')\n",
      "(47955, 12)\n"
     ]
    }
   ],
   "source": [
    "s_str('붕어빵')"
   ]
  },
  {
   "cell_type": "markdown",
   "id": "d1b6cba4",
   "metadata": {},
   "source": [
    "### df 사업장명중 떡볶이 글자가 들어간 행 삭제"
   ]
  },
  {
   "cell_type": "code",
   "execution_count": 102,
   "id": "8dbb7d02",
   "metadata": {},
   "outputs": [
    {
     "name": "stdout",
     "output_type": "stream",
     "text": [
      "Int64Index([  363,   929,  4069,  4954,  6337, 13654, 15242, 16355, 16759,\n",
      "            16855, 20713, 25603, 40362, 41035, 43815, 43981, 44393, 45134],\n",
      "           dtype='int64')\n",
      "(47937, 12)\n"
     ]
    }
   ],
   "source": [
    "s_str('떡볶이')"
   ]
  },
  {
   "cell_type": "markdown",
   "id": "78b65e7c",
   "metadata": {},
   "source": [
    "### df 사업장명중 브레댄코 글자가 들어간 행 삭제"
   ]
  },
  {
   "cell_type": "code",
   "execution_count": 103,
   "id": "33bf62c4",
   "metadata": {},
   "outputs": [
    {
     "name": "stdout",
     "output_type": "stream",
     "text": [
      "Int64Index([2593, 9697, 13305, 15637, 16518, 27434, 41866], dtype='int64')\n",
      "(47930, 12)\n"
     ]
    }
   ],
   "source": [
    "s_str('브레댄코')"
   ]
  },
  {
   "cell_type": "markdown",
   "id": "e6f1f195",
   "metadata": {},
   "source": [
    "### df 사업장명중 이삭 글자가 들어간 행 삭제"
   ]
  },
  {
   "cell_type": "code",
   "execution_count": 104,
   "id": "bcd82ca0",
   "metadata": {},
   "outputs": [
    {
     "name": "stdout",
     "output_type": "stream",
     "text": [
      "Int64Index([ 2642, 18098, 20769, 32129, 32648, 32849, 34952, 37557, 37712,\n",
      "            38256, 38300, 38684, 41481, 41531, 43266, 43519, 43585, 47519,\n",
      "            48246, 48302],\n",
      "           dtype='int64')\n",
      "(47910, 12)\n"
     ]
    }
   ],
   "source": [
    "s_str('이삭')"
   ]
  },
  {
   "cell_type": "markdown",
   "id": "39975449",
   "metadata": {},
   "source": [
    "### df 사업장명중 샌드위치 글자가 들어간 행 삭제"
   ]
  },
  {
   "cell_type": "code",
   "execution_count": 105,
   "id": "a6c647c8",
   "metadata": {},
   "outputs": [
    {
     "name": "stdout",
     "output_type": "stream",
     "text": [
      "Int64Index([ 3109,  3726,  9077, 10611, 10770, 10871, 11132, 11659, 13680,\n",
      "            15065, 15172, 15183, 15559, 15747, 16078, 17104, 17413, 17603,\n",
      "            17724, 17818, 18062, 18078, 18485, 18567, 19103, 19155, 19539,\n",
      "            20420, 23262, 23766, 24136, 24331, 24339, 24557, 26607, 28183,\n",
      "            28676, 35084, 39650, 39888, 39989, 40540, 41521, 42035, 42275,\n",
      "            43743, 43745, 43970, 44196, 44463, 44516, 44875, 45987, 46592],\n",
      "           dtype='int64')\n",
      "(47856, 12)\n"
     ]
    }
   ],
   "source": [
    "s_str('샌드위치')"
   ]
  },
  {
   "cell_type": "markdown",
   "id": "47c6c738",
   "metadata": {},
   "source": [
    "### df 사업장명중 아워홈 글자가 들어간 행 삭제"
   ]
  },
  {
   "cell_type": "code",
   "execution_count": 106,
   "id": "5d8ba551",
   "metadata": {},
   "outputs": [
    {
     "name": "stdout",
     "output_type": "stream",
     "text": [
      "Int64Index([ 1136,  2674,  3342, 10854, 14874, 15031, 15121, 15181, 15198,\n",
      "            16724, 26969, 26992, 26998, 27005, 27078, 28300, 38812, 39659,\n",
      "            39741, 40312, 40315, 46326],\n",
      "           dtype='int64')\n",
      "(47834, 12)\n"
     ]
    }
   ],
   "source": [
    "s_str('아워홈')"
   ]
  },
  {
   "cell_type": "markdown",
   "id": "dcd43afb",
   "metadata": {},
   "source": [
    "### df 사업장명중 PC 글자가 들어간 행 삭제"
   ]
  },
  {
   "cell_type": "code",
   "execution_count": 107,
   "id": "117ab67d",
   "metadata": {},
   "outputs": [
    {
     "name": "stdout",
     "output_type": "stream",
     "text": [
      "Int64Index([ 1924,  2433,  3515,  4195,  7750,  8231,  9565,  9873,  9999,\n",
      "            12752, 14656, 14688, 14788, 16011, 17173, 17825, 18128, 20856,\n",
      "            21321, 21490, 21821, 22820, 23014, 23127, 24591, 27518, 44344,\n",
      "            44419, 44446, 44457, 44471, 44473, 44481, 44484, 44485, 44493,\n",
      "            44497, 44498, 44499, 44585, 44637, 44639, 44646, 44656, 44674,\n",
      "            44743, 44745, 44773, 44785, 44794, 44810, 44917, 44923, 44972,\n",
      "            44993, 45050, 45054, 45079, 45119, 45120, 45124, 45138, 45141,\n",
      "            45596],\n",
      "           dtype='int64')\n",
      "(47770, 12)\n"
     ]
    }
   ],
   "source": [
    "s_str('PC')"
   ]
  },
  {
   "cell_type": "markdown",
   "id": "9f5ec85a",
   "metadata": {},
   "source": [
    "### df 사업장명중 호오떡 글자가 들어간 행 삭제"
   ]
  },
  {
   "cell_type": "code",
   "execution_count": 108,
   "id": "3766b9f9",
   "metadata": {},
   "outputs": [
    {
     "name": "stdout",
     "output_type": "stream",
     "text": [
      "Int64Index([3835], dtype='int64')\n",
      "(47769, 12)\n"
     ]
    }
   ],
   "source": [
    "s_str('호오떡')"
   ]
  },
  {
   "cell_type": "markdown",
   "id": "5f2cb3ae",
   "metadata": {},
   "source": [
    "### df 사업장명중 텔레콤 글자가 들어간 행 삭제"
   ]
  },
  {
   "cell_type": "code",
   "execution_count": 109,
   "id": "1d110fd4",
   "metadata": {},
   "outputs": [
    {
     "name": "stdout",
     "output_type": "stream",
     "text": [
      "Int64Index([4174, 7578, 17086, 21347, 21898, 28768], dtype='int64')\n",
      "(47763, 12)\n"
     ]
    }
   ],
   "source": [
    "s_str('텔레콤')"
   ]
  },
  {
   "cell_type": "markdown",
   "id": "52a1d973",
   "metadata": {},
   "source": [
    "### df 사업장명중 도시락 글자가 들어간 행 삭제"
   ]
  },
  {
   "cell_type": "code",
   "execution_count": 110,
   "id": "7029992a",
   "metadata": {},
   "outputs": [
    {
     "name": "stdout",
     "output_type": "stream",
     "text": [
      "Int64Index([4214, 44957], dtype='int64')\n",
      "(47761, 12)\n"
     ]
    }
   ],
   "source": [
    "s_str('도시락')"
   ]
  },
  {
   "cell_type": "markdown",
   "id": "92761240",
   "metadata": {},
   "source": [
    "### df 사업장명중 디저트 글자가 들어간 행 삭제"
   ]
  },
  {
   "cell_type": "code",
   "execution_count": 111,
   "id": "410cfa26",
   "metadata": {},
   "outputs": [
    {
     "name": "stdout",
     "output_type": "stream",
     "text": [
      "Int64Index([  159,   644,   705,   855,  1303,  1426,  2318,  2387,  3402,\n",
      "             4266,\n",
      "            ...\n",
      "            44660, 44779, 44959, 45013, 45082, 45099, 45264, 45973, 46047,\n",
      "            46277],\n",
      "           dtype='int64', length=147)\n",
      "(47614, 12)\n"
     ]
    }
   ],
   "source": [
    "s_str('디저트')"
   ]
  },
  {
   "cell_type": "markdown",
   "id": "7deb3223",
   "metadata": {},
   "source": [
    "### df 사업장명중 꽈배기 글자가 들어간 행 삭제"
   ]
  },
  {
   "cell_type": "code",
   "execution_count": 112,
   "id": "45545b05",
   "metadata": {},
   "outputs": [
    {
     "name": "stdout",
     "output_type": "stream",
     "text": [
      "Int64Index([3370, 4520, 5970, 9823, 12964, 15354, 20984, 24461, 26192], dtype='int64')\n",
      "(47605, 12)\n"
     ]
    }
   ],
   "source": [
    "s_str('꽈배기')"
   ]
  },
  {
   "cell_type": "markdown",
   "id": "45b003a7",
   "metadata": {},
   "source": [
    "### df 사업장명중 과자 글자가 들어간 행 삭제"
   ]
  },
  {
   "cell_type": "code",
   "execution_count": 113,
   "id": "2083a8a2",
   "metadata": {},
   "outputs": [
    {
     "name": "stdout",
     "output_type": "stream",
     "text": [
      "Int64Index([  670,  1661,  3682,  4564,  4586,  6021,  7589,  8716, 10046,\n",
      "            10363, 11861, 16947, 17118, 21192, 22926, 25697, 26809, 26841,\n",
      "            27776, 28041, 33138, 43727],\n",
      "           dtype='int64')\n",
      "(47583, 12)\n"
     ]
    }
   ],
   "source": [
    "s_str('과자')"
   ]
  },
  {
   "cell_type": "markdown",
   "id": "83c0e97d",
   "metadata": {},
   "source": [
    "### df 사업장명중 책방 글자가 들어간 행 삭제"
   ]
  },
  {
   "cell_type": "code",
   "execution_count": 114,
   "id": "8a8cc45b",
   "metadata": {},
   "outputs": [
    {
     "name": "stdout",
     "output_type": "stream",
     "text": [
      "Int64Index([4706, 9046, 10180, 10516, 24286, 25568, 26268, 26887], dtype='int64')\n",
      "(47575, 12)\n"
     ]
    }
   ],
   "source": [
    "s_str('책방')"
   ]
  },
  {
   "cell_type": "markdown",
   "id": "d5e00f81",
   "metadata": {},
   "source": [
    "### df 사업장명중 간식 글자가 들어간 행 삭제"
   ]
  },
  {
   "cell_type": "code",
   "execution_count": 115,
   "id": "8d009934",
   "metadata": {},
   "outputs": [
    {
     "name": "stdout",
     "output_type": "stream",
     "text": [
      "Int64Index([4924, 8780, 8997, 11543, 21077], dtype='int64')\n",
      "(47570, 12)\n"
     ]
    }
   ],
   "source": [
    "s_str('간식')"
   ]
  },
  {
   "cell_type": "markdown",
   "id": "1e7c088c",
   "metadata": {},
   "source": [
    "### df 사업장명중 마카롱 글자가 들어간 행 삭제"
   ]
  },
  {
   "cell_type": "code",
   "execution_count": 116,
   "id": "ba75a2ab",
   "metadata": {},
   "outputs": [
    {
     "name": "stdout",
     "output_type": "stream",
     "text": [
      "Int64Index([   85,   549,  1536,  2072,  2201,  2944,  3269,  4642,  4979,\n",
      "             6365,  6544,  6955,  7267,  7918,  9000,  9229,  9688,  9847,\n",
      "            10011, 10240, 11210, 11878, 12246, 12559, 12630, 12713, 12972,\n",
      "            13001, 13046, 13415, 14729, 16044, 17101, 17285, 17532, 18056,\n",
      "            20933, 21385, 22180, 23522, 23587, 23918, 24673, 24723, 25711,\n",
      "            27190, 40352],\n",
      "           dtype='int64')\n",
      "(47523, 12)\n"
     ]
    }
   ],
   "source": [
    "s_str('마카롱')"
   ]
  },
  {
   "cell_type": "markdown",
   "id": "84dfa9a5",
   "metadata": {},
   "source": [
    "### df 사업장명중 케익 글자가 들어간 행 삭제"
   ]
  },
  {
   "cell_type": "code",
   "execution_count": 117,
   "id": "7c160c23",
   "metadata": {},
   "outputs": [
    {
     "name": "stdout",
     "output_type": "stream",
     "text": [
      "Int64Index([  772,   985,  1111,  3186,  3312,  4649,  5067,  5285,  5457,\n",
      "             6186,  9116,  9144,  9845, 12106, 15841, 16420, 19308, 20158,\n",
      "            20431, 21006, 21524, 21592, 21947, 22249, 23354, 24774, 26403,\n",
      "            26637, 30719, 40072, 41062, 43486],\n",
      "           dtype='int64')\n",
      "(47491, 12)\n"
     ]
    }
   ],
   "source": [
    "s_str('케익')"
   ]
  },
  {
   "cell_type": "markdown",
   "id": "feddffef",
   "metadata": {},
   "source": [
    "### df 사업장명중 도넛 글자가 들어간 행 삭제"
   ]
  },
  {
   "cell_type": "code",
   "execution_count": 118,
   "id": "a8b94446",
   "metadata": {},
   "outputs": [
    {
     "name": "stdout",
     "output_type": "stream",
     "text": [
      "Int64Index([ 1408,  2890,  5105,  5756, 13974, 14346, 15278, 15647, 16152,\n",
      "            18445, 19024, 24936, 25701, 26753, 35190, 41660, 41845, 42122,\n",
      "            45677, 46327],\n",
      "           dtype='int64')\n",
      "(47471, 12)\n"
     ]
    }
   ],
   "source": [
    "s_str('도넛')"
   ]
  },
  {
   "cell_type": "markdown",
   "id": "257bb723",
   "metadata": {},
   "source": [
    "### df 사업장명중 어묵 글자가 들어간 행 삭제"
   ]
  },
  {
   "cell_type": "code",
   "execution_count": 119,
   "id": "2a016bec",
   "metadata": {},
   "outputs": [
    {
     "name": "stdout",
     "output_type": "stream",
     "text": [
      "Int64Index([5804, 23792], dtype='int64')\n",
      "(47469, 12)\n"
     ]
    }
   ],
   "source": [
    "s_str('어묵')"
   ]
  },
  {
   "cell_type": "markdown",
   "id": "68738a92",
   "metadata": {},
   "source": [
    "### df 사업장명중 미니스톱 글자가 들어간 행 삭제"
   ]
  },
  {
   "cell_type": "code",
   "execution_count": 120,
   "id": "f2c7e785",
   "metadata": {},
   "outputs": [
    {
     "name": "stdout",
     "output_type": "stream",
     "text": [
      "Int64Index([382, 9639, 10015, 10033, 13187, 14351, 16489, 24072, 33541, 33570], dtype='int64')\n",
      "(47459, 12)\n"
     ]
    }
   ],
   "source": [
    "s_str('미니스톱')"
   ]
  },
  {
   "cell_type": "markdown",
   "id": "f6ccf5b5",
   "metadata": {},
   "source": [
    "### df 사업장명중 사진관 글자가 들어간 행 삭제"
   ]
  },
  {
   "cell_type": "code",
   "execution_count": 121,
   "id": "b307e122",
   "metadata": {},
   "outputs": [
    {
     "name": "stdout",
     "output_type": "stream",
     "text": [
      "Int64Index([6840, 11028], dtype='int64')\n",
      "(47457, 12)\n"
     ]
    }
   ],
   "source": [
    "s_str('사진관')"
   ]
  },
  {
   "cell_type": "markdown",
   "id": "6ddb842f",
   "metadata": {},
   "source": [
    "### df 사업장명중 스포츠 글자가 들어간 행 삭제"
   ]
  },
  {
   "cell_type": "code",
   "execution_count": 122,
   "id": "9e1df460",
   "metadata": {},
   "outputs": [
    {
     "name": "stdout",
     "output_type": "stream",
     "text": [
      "Int64Index([782, 6898, 12829, 17260, 24497, 25186, 29451, 29755, 35126, 39208,\n",
      "            44975],\n",
      "           dtype='int64')\n",
      "(47446, 12)\n"
     ]
    }
   ],
   "source": [
    "s_str('스포츠')"
   ]
  },
  {
   "cell_type": "markdown",
   "id": "c812c990",
   "metadata": {},
   "source": [
    "### df 사업장명중 이동통신 글자가 들어간 행 삭제"
   ]
  },
  {
   "cell_type": "code",
   "execution_count": 123,
   "id": "1af31d79",
   "metadata": {},
   "outputs": [
    {
     "name": "stdout",
     "output_type": "stream",
     "text": [
      "Int64Index([7910], dtype='int64')\n",
      "(47445, 12)\n"
     ]
    }
   ],
   "source": [
    "s_str('이동통신')"
   ]
  },
  {
   "cell_type": "markdown",
   "id": "1d82636b",
   "metadata": {},
   "source": [
    "### df 사업장명중 에너지짐 글자가 들어간 행 삭제"
   ]
  },
  {
   "cell_type": "code",
   "execution_count": 124,
   "id": "fd623423",
   "metadata": {},
   "outputs": [
    {
     "name": "stdout",
     "output_type": "stream",
     "text": [
      "Int64Index([8250], dtype='int64')\n",
      "(47444, 12)\n"
     ]
    }
   ],
   "source": [
    "s_str('에너지짐')"
   ]
  },
  {
   "cell_type": "markdown",
   "id": "155ea074",
   "metadata": {},
   "source": [
    "### df 사업장명중 족발 글자가 들어간 행 삭제"
   ]
  },
  {
   "cell_type": "code",
   "execution_count": 125,
   "id": "5be8970c",
   "metadata": {},
   "outputs": [
    {
     "name": "stdout",
     "output_type": "stream",
     "text": [
      "Int64Index([8594], dtype='int64')\n",
      "(47443, 12)\n"
     ]
    }
   ],
   "source": [
    "s_str('족발')"
   ]
  },
  {
   "cell_type": "markdown",
   "id": "01980518",
   "metadata": {},
   "source": [
    "### df 사업장명중 우동 글자가 들어간 행 삭제"
   ]
  },
  {
   "cell_type": "code",
   "execution_count": 126,
   "id": "4d5059f3",
   "metadata": {},
   "outputs": [
    {
     "name": "stdout",
     "output_type": "stream",
     "text": [
      "Int64Index([5519, 7436, 9218, 38040], dtype='int64')\n",
      "(47439, 12)\n"
     ]
    }
   ],
   "source": [
    "s_str('우동')"
   ]
  },
  {
   "cell_type": "markdown",
   "id": "70bb455b",
   "metadata": {},
   "source": [
    "### df 사업장명중 코믹스 글자가 들어간 행 삭제"
   ]
  },
  {
   "cell_type": "code",
   "execution_count": 127,
   "id": "d4c7c8f8",
   "metadata": {},
   "outputs": [
    {
     "name": "stdout",
     "output_type": "stream",
     "text": [
      "Int64Index([3471, 9225, 23639, 44456, 44573, 44904, 45948], dtype='int64')\n",
      "(47432, 12)\n"
     ]
    }
   ],
   "source": [
    "s_str('코믹스')"
   ]
  },
  {
   "cell_type": "markdown",
   "id": "7a4e4f6b",
   "metadata": {},
   "source": [
    "### df 사업장명중 도서관 글자가 들어간 행 삭제"
   ]
  },
  {
   "cell_type": "code",
   "execution_count": 128,
   "id": "ee91a772",
   "metadata": {},
   "outputs": [
    {
     "name": "stdout",
     "output_type": "stream",
     "text": [
      "Int64Index([  395,  1455,  1975,  3849,  4930,  5011,  5315,  5378,  6111,\n",
      "             7366,  7374,  7629,  7739,  9574,  9726,  9781,  9863, 11016,\n",
      "            11487, 14251, 14327, 14848, 16370, 16905, 17308, 17424, 17431,\n",
      "            17675, 19895, 20566, 20862, 21202, 21242, 21420, 21635, 22174,\n",
      "            22209, 22232, 23030, 23338, 24472, 25130, 25396, 25687, 25780,\n",
      "            25800, 26733, 27690, 27735, 43806, 43901, 43931, 43932, 44020,\n",
      "            44064, 44177, 44190, 44476, 45436, 46026, 46185, 46302, 46351],\n",
      "           dtype='int64')\n",
      "(47369, 12)\n"
     ]
    }
   ],
   "source": [
    "s_str('도서관')"
   ]
  },
  {
   "cell_type": "markdown",
   "id": "2785b23b",
   "metadata": {},
   "source": [
    "### df 사업장명중 보드카페 글자가 들어간 행 삭제"
   ]
  },
  {
   "cell_type": "code",
   "execution_count": 129,
   "id": "6fad1254",
   "metadata": {},
   "outputs": [
    {
     "name": "stdout",
     "output_type": "stream",
     "text": [
      "Int64Index([   98,  4262,  4612,  7167, 11944, 12631, 14452, 14886, 15111,\n",
      "            16736, 19537, 20801, 22505, 44365, 44407, 44408, 44518, 44596,\n",
      "            44659, 44676, 44762, 44887, 44892, 44911, 44914, 45011, 45089],\n",
      "           dtype='int64')\n",
      "(47342, 12)\n"
     ]
    }
   ],
   "source": [
    "s_str('보드카페')"
   ]
  },
  {
   "cell_type": "markdown",
   "id": "8467a3b6",
   "metadata": {},
   "source": [
    "### df 사업장명중 보드게임 글자가 들어간 행 삭제"
   ]
  },
  {
   "cell_type": "code",
   "execution_count": 130,
   "id": "7ff7dbf5",
   "metadata": {},
   "outputs": [
    {
     "name": "stdout",
     "output_type": "stream",
     "text": [
      "Int64Index([697, 11188, 16772, 26583, 44675, 44740, 44772, 45069, 45078], dtype='int64')\n",
      "(47333, 12)\n"
     ]
    }
   ],
   "source": [
    "s_str('보드게임')"
   ]
  },
  {
   "cell_type": "markdown",
   "id": "61be9fc5",
   "metadata": {},
   "source": [
    "### df 사업장명중 롱도그 글자가 들어간 행 삭제"
   ]
  },
  {
   "cell_type": "code",
   "execution_count": 131,
   "id": "46e6e7fd",
   "metadata": {},
   "outputs": [
    {
     "name": "stdout",
     "output_type": "stream",
     "text": [
      "Int64Index([11882], dtype='int64')\n",
      "(47332, 12)\n"
     ]
    }
   ],
   "source": [
    "s_str('롱도그')"
   ]
  },
  {
   "cell_type": "markdown",
   "id": "9df3e023",
   "metadata": {},
   "source": [
    "### df 사업장명중 스튜디오 글자가 들어간 행 삭제"
   ]
  },
  {
   "cell_type": "code",
   "execution_count": 132,
   "id": "e21e1443",
   "metadata": {},
   "outputs": [
    {
     "name": "stdout",
     "output_type": "stream",
     "text": [
      "Int64Index([  213,   366,  2851,  3190,  3265,  3552,  6289,  7068,  7194,\n",
      "             8185,  8277,  8430,  8920,  9537, 10209, 10337, 10681, 10966,\n",
      "            11817, 12681, 12732, 13024, 15305, 16360, 16999, 17011, 18977,\n",
      "            19433, 20099, 20250, 21088, 21586, 22080, 22679, 22686, 23380,\n",
      "            24433, 24975, 25267, 25662, 25672, 25694, 26676, 26919, 27126,\n",
      "            27182, 27347, 28107, 33019, 37171, 39942, 42168, 44001, 47689],\n",
      "           dtype='int64')\n",
      "(47278, 12)\n"
     ]
    }
   ],
   "source": [
    "s_str('스튜디오')"
   ]
  },
  {
   "cell_type": "markdown",
   "id": "cb2e3db6",
   "metadata": {},
   "source": [
    "### df 사업장명중 문구 글자가 들어간 행 삭제"
   ]
  },
  {
   "cell_type": "code",
   "execution_count": 133,
   "id": "2e54e34a",
   "metadata": {},
   "outputs": [
    {
     "name": "stdout",
     "output_type": "stream",
     "text": [
      "Int64Index([885, 4741, 16334, 22000, 27860], dtype='int64')\n",
      "(47273, 12)\n"
     ]
    }
   ],
   "source": [
    "s_str('문구')"
   ]
  },
  {
   "cell_type": "markdown",
   "id": "0e3744a6",
   "metadata": {},
   "source": [
    "### df 사업장명중 컴퓨터 글자가 들어간 행 삭제"
   ]
  },
  {
   "cell_type": "code",
   "execution_count": 134,
   "id": "5fb7ae42",
   "metadata": {},
   "outputs": [
    {
     "name": "stdout",
     "output_type": "stream",
     "text": [
      "Int64Index([2370, 22160], dtype='int64')\n",
      "(47271, 12)\n"
     ]
    }
   ],
   "source": [
    "s_str('컴퓨터')"
   ]
  },
  {
   "cell_type": "markdown",
   "id": "727b24d0",
   "metadata": {},
   "source": [
    "### df 사업장명중 키친 글자가 들어간 행 삭제"
   ]
  },
  {
   "cell_type": "code",
   "execution_count": 135,
   "id": "ed40ec9c",
   "metadata": {},
   "outputs": [
    {
     "name": "stdout",
     "output_type": "stream",
     "text": [
      "Int64Index([  340,  1801,  3762,  4147,  4355,  6106,  6508,  7108,  8420,\n",
      "             9085,  9450, 13697, 14097, 14946, 14949, 15265, 16206, 17098,\n",
      "            17663, 18732, 19548, 19810, 21327, 22196, 24404, 24781, 24782,\n",
      "            27223, 30381, 41818, 44688],\n",
      "           dtype='int64')\n",
      "(47240, 12)\n"
     ]
    }
   ],
   "source": [
    "s_str('키친')"
   ]
  },
  {
   "cell_type": "markdown",
   "id": "1f87c75c",
   "metadata": {},
   "source": [
    "### df 사업장명중 실업 글자가 들어간 행 삭제"
   ]
  },
  {
   "cell_type": "code",
   "execution_count": 136,
   "id": "f7f8ff9c",
   "metadata": {},
   "outputs": [
    {
     "name": "stdout",
     "output_type": "stream",
     "text": [
      "Int64Index([17008, 30392, 47999], dtype='int64')\n",
      "(47237, 12)\n"
     ]
    }
   ],
   "source": [
    "s_str('실업')"
   ]
  },
  {
   "cell_type": "code",
   "execution_count": 137,
   "id": "83877d87",
   "metadata": {},
   "outputs": [
    {
     "data": {
      "text/plain": [
       "(47237, 12)"
      ]
     },
     "execution_count": 137,
     "metadata": {},
     "output_type": "execute_result"
    }
   ],
   "source": [
    "df.shape"
   ]
  },
  {
   "cell_type": "code",
   "execution_count": 138,
   "id": "62525f22",
   "metadata": {},
   "outputs": [],
   "source": [
    "#df.to_csv('seoul_coffee_ver04.csv', index=False, encoding='cp949')"
   ]
  },
  {
   "cell_type": "code",
   "execution_count": null,
   "id": "23090986",
   "metadata": {},
   "outputs": [],
   "source": []
  }
 ],
 "metadata": {
  "kernelspec": {
   "display_name": "Python 3 (ipykernel)",
   "language": "python",
   "name": "python3"
  },
  "language_info": {
   "codemirror_mode": {
    "name": "ipython",
    "version": 3
   },
   "file_extension": ".py",
   "mimetype": "text/x-python",
   "name": "python",
   "nbconvert_exporter": "python",
   "pygments_lexer": "ipython3",
   "version": "3.9.7"
  },
  "toc": {
   "base_numbering": 1,
   "nav_menu": {},
   "number_sections": true,
   "sideBar": true,
   "skip_h1_title": false,
   "title_cell": "Table of Contents",
   "title_sidebar": "Contents",
   "toc_cell": false,
   "toc_position": {},
   "toc_section_display": true,
   "toc_window_display": false
  }
 },
 "nbformat": 4,
 "nbformat_minor": 5
}
