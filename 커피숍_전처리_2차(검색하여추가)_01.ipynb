{
 "cells": [
  {
   "cell_type": "code",
   "execution_count": 276,
   "id": "048a2bab",
   "metadata": {},
   "outputs": [],
   "source": [
    "import pandas as pd\n",
    "import numpy as np"
   ]
  },
  {
   "cell_type": "markdown",
   "id": "c43f4e55",
   "metadata": {},
   "source": [
    "## 1차 작업한 데이터 읽어오기"
   ]
  },
  {
   "cell_type": "code",
   "execution_count": 277,
   "id": "660b5e69",
   "metadata": {},
   "outputs": [
    {
     "data": {
      "text/html": [
       "<div>\n",
       "<style scoped>\n",
       "    .dataframe tbody tr th:only-of-type {\n",
       "        vertical-align: middle;\n",
       "    }\n",
       "\n",
       "    .dataframe tbody tr th {\n",
       "        vertical-align: top;\n",
       "    }\n",
       "\n",
       "    .dataframe thead th {\n",
       "        text-align: right;\n",
       "    }\n",
       "</style>\n",
       "<table border=\"1\" class=\"dataframe\">\n",
       "  <thead>\n",
       "    <tr style=\"text-align: right;\">\n",
       "      <th></th>\n",
       "      <th>인허가일자</th>\n",
       "      <th>인허가취소일자</th>\n",
       "      <th>영업상태명</th>\n",
       "      <th>상세영업상태코드</th>\n",
       "      <th>상세영업상태명</th>\n",
       "      <th>폐업일자</th>\n",
       "      <th>소재지면적</th>\n",
       "      <th>지번주소</th>\n",
       "      <th>도로명주소</th>\n",
       "      <th>사업장명</th>\n",
       "      <th>업태구분명</th>\n",
       "      <th>좌표정보(X)</th>\n",
       "      <th>좌표정보(Y)</th>\n",
       "    </tr>\n",
       "  </thead>\n",
       "  <tbody>\n",
       "    <tr>\n",
       "      <th>0</th>\n",
       "      <td>20200713</td>\n",
       "      <td>NaN</td>\n",
       "      <td>영업/정상</td>\n",
       "      <td>1</td>\n",
       "      <td>영업</td>\n",
       "      <td>NaN</td>\n",
       "      <td>329.89</td>\n",
       "      <td>서울특별시 송파구 방이동 44-3 현대토픽스</td>\n",
       "      <td>서울특별시 송파구 위례성대로 6 1층 (방이동)</td>\n",
       "      <td>스타벅스 몽촌토성역점</td>\n",
       "      <td>커피숍</td>\n",
       "      <td>209929.5748</td>\n",
       "      <td>446085.1213</td>\n",
       "    </tr>\n",
       "    <tr>\n",
       "      <th>1</th>\n",
       "      <td>20200713</td>\n",
       "      <td>NaN</td>\n",
       "      <td>영업/정상</td>\n",
       "      <td>1</td>\n",
       "      <td>영업</td>\n",
       "      <td>NaN</td>\n",
       "      <td>26.00</td>\n",
       "      <td>서울특별시 동대문구 전농동 38-104</td>\n",
       "      <td>서울특별시 동대문구 전농로16길 54 1층 (전농동)</td>\n",
       "      <td>Min's coffee</td>\n",
       "      <td>커피숍</td>\n",
       "      <td>205263.8264</td>\n",
       "      <td>452869.9925</td>\n",
       "    </tr>\n",
       "    <tr>\n",
       "      <th>2</th>\n",
       "      <td>20200713</td>\n",
       "      <td>NaN</td>\n",
       "      <td>영업/정상</td>\n",
       "      <td>1</td>\n",
       "      <td>영업</td>\n",
       "      <td>NaN</td>\n",
       "      <td>15.46</td>\n",
       "      <td>서울특별시 강서구 마곡동 773 힐스테이트에코마곡역 302호</td>\n",
       "      <td>서울특별시 강서구 마곡중앙로 76 힐스테이트에코마곡역 3층 302호 (마곡동)</td>\n",
       "      <td>티오르카페</td>\n",
       "      <td>커피숍</td>\n",
       "      <td>NaN</td>\n",
       "      <td>NaN</td>\n",
       "    </tr>\n",
       "    <tr>\n",
       "      <th>3</th>\n",
       "      <td>20200713</td>\n",
       "      <td>NaN</td>\n",
       "      <td>영업/정상</td>\n",
       "      <td>1</td>\n",
       "      <td>영업</td>\n",
       "      <td>NaN</td>\n",
       "      <td>13.20</td>\n",
       "      <td>서울특별시 관악구 신림동 608-30</td>\n",
       "      <td>서울특별시 관악구 난우길 20 지하1층 (신림동)</td>\n",
       "      <td>애견용품할인매장</td>\n",
       "      <td>커피숍</td>\n",
       "      <td>192733.8329</td>\n",
       "      <td>441403.5423</td>\n",
       "    </tr>\n",
       "    <tr>\n",
       "      <th>4</th>\n",
       "      <td>20200713</td>\n",
       "      <td>NaN</td>\n",
       "      <td>영업/정상</td>\n",
       "      <td>1</td>\n",
       "      <td>영업</td>\n",
       "      <td>NaN</td>\n",
       "      <td>247.50</td>\n",
       "      <td>서울특별시 성북구 성북동 8-28</td>\n",
       "      <td>서울특별시 성북구 선잠로2다길 13-13 지하1층 (성북동)</td>\n",
       "      <td>오버스토리</td>\n",
       "      <td>커피숍</td>\n",
       "      <td>199901.9764</td>\n",
       "      <td>455159.3438</td>\n",
       "    </tr>\n",
       "    <tr>\n",
       "      <th>...</th>\n",
       "      <td>...</td>\n",
       "      <td>...</td>\n",
       "      <td>...</td>\n",
       "      <td>...</td>\n",
       "      <td>...</td>\n",
       "      <td>...</td>\n",
       "      <td>...</td>\n",
       "      <td>...</td>\n",
       "      <td>...</td>\n",
       "      <td>...</td>\n",
       "      <td>...</td>\n",
       "      <td>...</td>\n",
       "      <td>...</td>\n",
       "    </tr>\n",
       "    <tr>\n",
       "      <th>63346</th>\n",
       "      <td>20140807</td>\n",
       "      <td>NaN</td>\n",
       "      <td>폐업</td>\n",
       "      <td>2</td>\n",
       "      <td>폐업</td>\n",
       "      <td>20211207.0</td>\n",
       "      <td>26.40</td>\n",
       "      <td>서울특별시 광진구 자양동 229-1 (1층)</td>\n",
       "      <td>서울특별시 광진구 아차산로44길 41 1층 (자양동)</td>\n",
       "      <td>카페주전자</td>\n",
       "      <td>커피숍</td>\n",
       "      <td>206892.0792</td>\n",
       "      <td>448225.6910</td>\n",
       "    </tr>\n",
       "    <tr>\n",
       "      <th>63347</th>\n",
       "      <td>20140319</td>\n",
       "      <td>NaN</td>\n",
       "      <td>폐업</td>\n",
       "      <td>2</td>\n",
       "      <td>폐업</td>\n",
       "      <td>20211207.0</td>\n",
       "      <td>77.40</td>\n",
       "      <td>서울특별시 강서구 염창동 248-3 삼성하나로아파트상가 1층 104~105호</td>\n",
       "      <td>서울특별시 강서구 양천로73길 5 1층 104~105호 (염창동 삼성하나로아파트상가)</td>\n",
       "      <td>커피베이 강서염창점</td>\n",
       "      <td>커피숍</td>\n",
       "      <td>188611.3283</td>\n",
       "      <td>449936.9551</td>\n",
       "    </tr>\n",
       "    <tr>\n",
       "      <th>63348</th>\n",
       "      <td>20130806</td>\n",
       "      <td>NaN</td>\n",
       "      <td>영업/정상</td>\n",
       "      <td>1</td>\n",
       "      <td>영업</td>\n",
       "      <td>NaN</td>\n",
       "      <td>130.15</td>\n",
       "      <td>서울특별시 성북구 길음동 20-1 현대백화점미아점 9층</td>\n",
       "      <td>서울특별시 성북구 동소문로 315 (길음동 현대백화점미아점 9층)</td>\n",
       "      <td>키커피컴퍼니</td>\n",
       "      <td>기타 휴게음식점</td>\n",
       "      <td>202466.8011</td>\n",
       "      <td>456227.5717</td>\n",
       "    </tr>\n",
       "    <tr>\n",
       "      <th>63349</th>\n",
       "      <td>20111021</td>\n",
       "      <td>NaN</td>\n",
       "      <td>폐업</td>\n",
       "      <td>2</td>\n",
       "      <td>폐업</td>\n",
       "      <td>20211207.0</td>\n",
       "      <td>24.00</td>\n",
       "      <td>서울특별시 강서구 방화동 886-0 김포공항 공항철도역 (지하 3층)</td>\n",
       "      <td>서울특별시 강서구 하늘길 지하 77 3층 (방화동 2동 김포공항 공항철도역)</td>\n",
       "      <td>델트렌 김포공항역지점</td>\n",
       "      <td>커피숍</td>\n",
       "      <td>182524.8238</td>\n",
       "      <td>451438.2509</td>\n",
       "    </tr>\n",
       "    <tr>\n",
       "      <th>63350</th>\n",
       "      <td>20040323</td>\n",
       "      <td>NaN</td>\n",
       "      <td>폐업</td>\n",
       "      <td>2</td>\n",
       "      <td>폐업</td>\n",
       "      <td>20211207.0</td>\n",
       "      <td>13.20</td>\n",
       "      <td>서울특별시 성동구 행당동 140 레몬프라자 지하2층</td>\n",
       "      <td>서울특별시 성동구 고산자로6길 40 (행당동레몬프라자 지하2층)</td>\n",
       "      <td>미라클스넥</td>\n",
       "      <td>기타 휴게음식점</td>\n",
       "      <td>203071.9592</td>\n",
       "      <td>450665.5326</td>\n",
       "    </tr>\n",
       "  </tbody>\n",
       "</table>\n",
       "<p>63351 rows × 13 columns</p>\n",
       "</div>"
      ],
      "text/plain": [
       "          인허가일자  인허가취소일자  영업상태명  상세영업상태코드 상세영업상태명        폐업일자   소재지면적  \\\n",
       "0      20200713      NaN  영업/정상         1      영업         NaN  329.89   \n",
       "1      20200713      NaN  영업/정상         1      영업         NaN   26.00   \n",
       "2      20200713      NaN  영업/정상         1      영업         NaN   15.46   \n",
       "3      20200713      NaN  영업/정상         1      영업         NaN   13.20   \n",
       "4      20200713      NaN  영업/정상         1      영업         NaN  247.50   \n",
       "...         ...      ...    ...       ...     ...         ...     ...   \n",
       "63346  20140807      NaN     폐업         2      폐업  20211207.0   26.40   \n",
       "63347  20140319      NaN     폐업         2      폐업  20211207.0   77.40   \n",
       "63348  20130806      NaN  영업/정상         1      영업         NaN  130.15   \n",
       "63349  20111021      NaN     폐업         2      폐업  20211207.0   24.00   \n",
       "63350  20040323      NaN     폐업         2      폐업  20211207.0   13.20   \n",
       "\n",
       "                                             지번주소  \\\n",
       "0                        서울특별시 송파구 방이동 44-3 현대토픽스   \n",
       "1                           서울특별시 동대문구 전농동 38-104   \n",
       "2               서울특별시 강서구 마곡동 773 힐스테이트에코마곡역 302호   \n",
       "3                            서울특별시 관악구 신림동 608-30   \n",
       "4                              서울특별시 성북구 성북동 8-28   \n",
       "...                                           ...   \n",
       "63346                    서울특별시 광진구 자양동 229-1 (1층)   \n",
       "63347  서울특별시 강서구 염창동 248-3 삼성하나로아파트상가 1층 104~105호   \n",
       "63348              서울특별시 성북구 길음동 20-1 현대백화점미아점 9층   \n",
       "63349      서울특별시 강서구 방화동 886-0 김포공항 공항철도역 (지하 3층)   \n",
       "63350                서울특별시 성동구 행당동 140 레몬프라자 지하2층   \n",
       "\n",
       "                                                 도로명주소          사업장명  \\\n",
       "0                           서울특별시 송파구 위례성대로 6 1층 (방이동)   스타벅스 몽촌토성역점   \n",
       "1                        서울특별시 동대문구 전농로16길 54 1층 (전농동)  Min's coffee   \n",
       "2          서울특별시 강서구 마곡중앙로 76 힐스테이트에코마곡역 3층 302호 (마곡동)         티오르카페   \n",
       "3                          서울특별시 관악구 난우길 20 지하1층 (신림동)      애견용품할인매장   \n",
       "4                    서울특별시 성북구 선잠로2다길 13-13 지하1층 (성북동)         오버스토리   \n",
       "...                                                ...           ...   \n",
       "63346                    서울특별시 광진구 아차산로44길 41 1층 (자양동)         카페주전자   \n",
       "63347  서울특별시 강서구 양천로73길 5 1층 104~105호 (염창동 삼성하나로아파트상가)    커피베이 강서염창점   \n",
       "63348             서울특별시 성북구 동소문로 315 (길음동 현대백화점미아점 9층)        키커피컴퍼니   \n",
       "63349       서울특별시 강서구 하늘길 지하 77 3층 (방화동 2동 김포공항 공항철도역)   델트렌 김포공항역지점   \n",
       "63350              서울특별시 성동구 고산자로6길 40 (행당동레몬프라자 지하2층)         미라클스넥   \n",
       "\n",
       "          업태구분명      좌표정보(X)      좌표정보(Y)  \n",
       "0           커피숍  209929.5748  446085.1213  \n",
       "1           커피숍  205263.8264  452869.9925  \n",
       "2           커피숍          NaN          NaN  \n",
       "3           커피숍  192733.8329  441403.5423  \n",
       "4           커피숍  199901.9764  455159.3438  \n",
       "...         ...          ...          ...  \n",
       "63346       커피숍  206892.0792  448225.6910  \n",
       "63347       커피숍  188611.3283  449936.9551  \n",
       "63348  기타 휴게음식점  202466.8011  456227.5717  \n",
       "63349       커피숍  182524.8238  451438.2509  \n",
       "63350  기타 휴게음식점  203071.9592  450665.5326  \n",
       "\n",
       "[63351 rows x 13 columns]"
      ]
     },
     "execution_count": 277,
     "metadata": {},
     "output_type": "execute_result"
    }
   ],
   "source": [
    "df = pd.read_csv(\"data/seoul_coffee.csv\", encoding='cp949')\n",
    "df"
   ]
  },
  {
   "cell_type": "markdown",
   "id": "90657d56",
   "metadata": {},
   "source": [
    "## 업태구분명 컬럼으로 각각 데이터프레임 나누기"
   ]
  },
  {
   "cell_type": "code",
   "execution_count": 278,
   "id": "dfb57c0a",
   "metadata": {},
   "outputs": [],
   "source": [
    "df1 = df[df['업태구분명'] == '커피숍']\n",
    "df2 = df[df['업태구분명'] == '다방']\n",
    "data = df[df['업태구분명'] == '기타 휴게음식점']"
   ]
  },
  {
   "cell_type": "code",
   "execution_count": 279,
   "id": "2030b5f6",
   "metadata": {},
   "outputs": [
    {
     "data": {
      "text/plain": [
       "(29417, 13)"
      ]
     },
     "execution_count": 279,
     "metadata": {},
     "output_type": "execute_result"
    }
   ],
   "source": [
    "df1.shape"
   ]
  },
  {
   "cell_type": "code",
   "execution_count": 280,
   "id": "00d86813",
   "metadata": {},
   "outputs": [
    {
     "data": {
      "text/plain": [
       "(17719, 13)"
      ]
     },
     "execution_count": 280,
     "metadata": {},
     "output_type": "execute_result"
    }
   ],
   "source": [
    "df2.shape"
   ]
  },
  {
   "cell_type": "code",
   "execution_count": 281,
   "id": "3dd8aef3",
   "metadata": {},
   "outputs": [
    {
     "data": {
      "text/plain": [
       "(16215, 13)"
      ]
     },
     "execution_count": 281,
     "metadata": {},
     "output_type": "execute_result"
    }
   ],
   "source": [
    "data.shape"
   ]
  },
  {
   "cell_type": "markdown",
   "id": "e9c360a1",
   "metadata": {},
   "source": [
    "## 기타 휴게음식점 컬럼\n",
    "- 사업장명이 '커피' 가 포함된 열 찾기\n",
    "- 사업장명이 '카페' 가 포함된 열 찾기\n",
    "- 사업장명이 'cafe' 가 포함된 열 찾기\n",
    "- 사업장명이 프렌차이즈 종료별로 열 찾기(유명 30개 그룹)"
   ]
  },
  {
   "cell_type": "code",
   "execution_count": 282,
   "id": "95d85968",
   "metadata": {},
   "outputs": [
    {
     "data": {
      "text/plain": [
       "(601, 13)"
      ]
     },
     "execution_count": 282,
     "metadata": {},
     "output_type": "execute_result"
    }
   ],
   "source": [
    "c1 = data[data['사업장명'].str.contains('커피')]\n",
    "c1.shape"
   ]
  },
  {
   "cell_type": "code",
   "execution_count": 283,
   "id": "b8be91e8",
   "metadata": {},
   "outputs": [
    {
     "data": {
      "text/plain": [
       "(839, 13)"
      ]
     },
     "execution_count": 283,
     "metadata": {},
     "output_type": "execute_result"
    }
   ],
   "source": [
    "c2 = data[data['사업장명'].str.contains('카페')]\n",
    "c2.shape"
   ]
  },
  {
   "cell_type": "code",
   "execution_count": 284,
   "id": "c6abcd0a",
   "metadata": {},
   "outputs": [
    {
     "data": {
      "text/plain": [
       "(86, 13)"
      ]
     },
     "execution_count": 284,
     "metadata": {},
     "output_type": "execute_result"
    }
   ],
   "source": [
    "c3 = data[data['사업장명'].str.contains('cafe')]\n",
    "c3.shape"
   ]
  },
  {
   "cell_type": "code",
   "execution_count": 285,
   "id": "09b06bbf",
   "metadata": {},
   "outputs": [
    {
     "data": {
      "text/plain": [
       "(19, 13)"
      ]
     },
     "execution_count": 285,
     "metadata": {},
     "output_type": "execute_result"
    }
   ],
   "source": [
    "c4 = data[data['사업장명'].str.contains('스타벅스')]\n",
    "c4.shape"
   ]
  },
  {
   "cell_type": "code",
   "execution_count": 286,
   "id": "97f7ea94",
   "metadata": {},
   "outputs": [
    {
     "data": {
      "text/plain": [
       "(26, 13)"
      ]
     },
     "execution_count": 286,
     "metadata": {},
     "output_type": "execute_result"
    }
   ],
   "source": [
    "c5 = data[data['사업장명'].str.contains('투썸')]\n",
    "c5.shape"
   ]
  },
  {
   "cell_type": "code",
   "execution_count": 287,
   "id": "4b659c22",
   "metadata": {},
   "outputs": [
    {
     "data": {
      "text/plain": [
       "(18, 13)"
      ]
     },
     "execution_count": 287,
     "metadata": {},
     "output_type": "execute_result"
    }
   ],
   "source": [
    "c6 = data[data['사업장명'].str.contains('메가엠지씨')]\n",
    "c6.shape"
   ]
  },
  {
   "cell_type": "code",
   "execution_count": 288,
   "id": "d523976d",
   "metadata": {},
   "outputs": [
    {
     "data": {
      "text/plain": [
       "(1, 13)"
      ]
     },
     "execution_count": 288,
     "metadata": {},
     "output_type": "execute_result"
    }
   ],
   "source": [
    "c7 = data[data['사업장명'].str.contains('메가MGC')]\n",
    "c7.shape"
   ]
  },
  {
   "cell_type": "code",
   "execution_count": 289,
   "id": "0b596913",
   "metadata": {},
   "outputs": [
    {
     "data": {
      "text/plain": [
       "(43, 13)"
      ]
     },
     "execution_count": 289,
     "metadata": {},
     "output_type": "execute_result"
    }
   ],
   "source": [
    "c8 = data[data['사업장명'].str.contains('이디야')]\n",
    "c8.shape"
   ]
  },
  {
   "cell_type": "code",
   "execution_count": 290,
   "id": "9b7c0547",
   "metadata": {},
   "outputs": [
    {
     "data": {
      "text/plain": [
       "(12, 13)"
      ]
     },
     "execution_count": 290,
     "metadata": {},
     "output_type": "execute_result"
    }
   ],
   "source": [
    "c9 = data[data['사업장명'].str.contains('빽다방')]\n",
    "c9.shape"
   ]
  },
  {
   "cell_type": "code",
   "execution_count": 291,
   "id": "f139b2ac",
   "metadata": {},
   "outputs": [
    {
     "data": {
      "text/plain": [
       "(2, 13)"
      ]
     },
     "execution_count": 291,
     "metadata": {},
     "output_type": "execute_result"
    }
   ],
   "source": [
    "c10 = data[data['사업장명'].str.contains('폴바셋')]\n",
    "c10.shape"
   ]
  },
  {
   "cell_type": "code",
   "execution_count": 292,
   "id": "0b468380",
   "metadata": {},
   "outputs": [
    {
     "data": {
      "text/plain": [
       "(12, 13)"
      ]
     },
     "execution_count": 292,
     "metadata": {},
     "output_type": "execute_result"
    }
   ],
   "source": [
    "c11 = data[data['사업장명'].str.contains('할리스')]\n",
    "c11.shape"
   ]
  },
  {
   "cell_type": "code",
   "execution_count": 293,
   "id": "7577c569",
   "metadata": {},
   "outputs": [
    {
     "data": {
      "text/plain": [
       "(7, 13)"
      ]
     },
     "execution_count": 293,
     "metadata": {},
     "output_type": "execute_result"
    }
   ],
   "source": [
    "c12 = data[data['사업장명'].str.contains('커피빈')]\n",
    "c12.shape"
   ]
  },
  {
   "cell_type": "code",
   "execution_count": 294,
   "id": "feb78cc5",
   "metadata": {},
   "outputs": [
    {
     "data": {
      "text/plain": [
       "(7, 13)"
      ]
     },
     "execution_count": 294,
     "metadata": {},
     "output_type": "execute_result"
    }
   ],
   "source": [
    "c13 = data[data['사업장명'].str.contains('엔제리너스')]\n",
    "c13.shape"
   ]
  },
  {
   "cell_type": "code",
   "execution_count": 295,
   "id": "a7b80073",
   "metadata": {},
   "outputs": [
    {
     "data": {
      "text/plain": [
       "(5, 13)"
      ]
     },
     "execution_count": 295,
     "metadata": {},
     "output_type": "execute_result"
    }
   ],
   "source": [
    "c14 = data[data['사업장명'].str.contains('파스쿠찌')]\n",
    "c14.shape"
   ]
  },
  {
   "cell_type": "code",
   "execution_count": 296,
   "id": "d3af6c8f",
   "metadata": {},
   "outputs": [
    {
     "data": {
      "text/plain": [
       "(4, 13)"
      ]
     },
     "execution_count": 296,
     "metadata": {},
     "output_type": "execute_result"
    }
   ],
   "source": [
    "c15 = data[data['사업장명'].str.contains('커피나무')]\n",
    "c15.shape"
   ]
  },
  {
   "cell_type": "code",
   "execution_count": 297,
   "id": "37320988",
   "metadata": {},
   "outputs": [
    {
     "data": {
      "text/plain": [
       "(18, 13)"
      ]
     },
     "execution_count": 297,
     "metadata": {},
     "output_type": "execute_result"
    }
   ],
   "source": [
    "c16 = data[data['사업장명'].str.contains('커피베이')]\n",
    "c16.shape"
   ]
  },
  {
   "cell_type": "code",
   "execution_count": 298,
   "id": "2a527214",
   "metadata": {},
   "outputs": [
    {
     "data": {
      "text/plain": [
       "(10, 13)"
      ]
     },
     "execution_count": 298,
     "metadata": {},
     "output_type": "execute_result"
    }
   ],
   "source": [
    "c17 = data[data['사업장명'].str.contains('탐앤탐스')]\n",
    "c17.shape"
   ]
  },
  {
   "cell_type": "code",
   "execution_count": 299,
   "id": "d4fa192c",
   "metadata": {},
   "outputs": [
    {
     "data": {
      "text/plain": [
       "(11, 13)"
      ]
     },
     "execution_count": 299,
     "metadata": {},
     "output_type": "execute_result"
    }
   ],
   "source": [
    "c18 = data[data['사업장명'].str.contains('카페베네')]\n",
    "c18.shape"
   ]
  },
  {
   "cell_type": "code",
   "execution_count": 300,
   "id": "f54d152a",
   "metadata": {},
   "outputs": [
    {
     "data": {
      "text/plain": [
       "(1, 13)"
      ]
     },
     "execution_count": 300,
     "metadata": {},
     "output_type": "execute_result"
    }
   ],
   "source": [
    "c19 = data[data['사업장명'].str.contains('더착한커피')]\n",
    "c19.shape"
   ]
  },
  {
   "cell_type": "code",
   "execution_count": 301,
   "id": "af1b4f2e",
   "metadata": {},
   "outputs": [
    {
     "data": {
      "text/plain": [
       "(4, 13)"
      ]
     },
     "execution_count": 301,
     "metadata": {},
     "output_type": "execute_result"
    }
   ],
   "source": [
    "c20 = data[data['사업장명'].str.contains('만랩커피')]\n",
    "c20.shape"
   ]
  },
  {
   "cell_type": "code",
   "execution_count": 302,
   "id": "50bce23e",
   "metadata": {},
   "outputs": [
    {
     "data": {
      "text/plain": [
       "(3, 13)"
      ]
     },
     "execution_count": 302,
     "metadata": {},
     "output_type": "execute_result"
    }
   ],
   "source": [
    "c21 = data[data['사업장명'].str.contains('달콤커피')]\n",
    "c21.shape"
   ]
  },
  {
   "cell_type": "code",
   "execution_count": 303,
   "id": "4ccb82bf",
   "metadata": {},
   "outputs": [
    {
     "data": {
      "text/plain": [
       "(5, 13)"
      ]
     },
     "execution_count": 303,
     "metadata": {},
     "output_type": "execute_result"
    }
   ],
   "source": [
    "c22 = data[data['사업장명'].str.contains('커피에반하다')]\n",
    "c22.shape"
   ]
  },
  {
   "cell_type": "code",
   "execution_count": 304,
   "id": "c49c1b58",
   "metadata": {},
   "outputs": [
    {
     "data": {
      "text/plain": [
       "(5, 13)"
      ]
     },
     "execution_count": 304,
     "metadata": {},
     "output_type": "execute_result"
    }
   ],
   "source": [
    "c23 = data[data['사업장명'].str.contains('셀렉토')]\n",
    "c23.shape"
   ]
  },
  {
   "cell_type": "code",
   "execution_count": 305,
   "id": "04a239b6",
   "metadata": {},
   "outputs": [
    {
     "data": {
      "text/plain": [
       "(11, 13)"
      ]
     },
     "execution_count": 305,
     "metadata": {},
     "output_type": "execute_result"
    }
   ],
   "source": [
    "c24 = data[data['사업장명'].str.contains('매머드')]\n",
    "c24.shape"
   ]
  },
  {
   "cell_type": "code",
   "execution_count": 306,
   "id": "04145c02",
   "metadata": {},
   "outputs": [
    {
     "data": {
      "text/plain": [
       "(1, 13)"
      ]
     },
     "execution_count": 306,
     "metadata": {},
     "output_type": "execute_result"
    }
   ],
   "source": [
    "c25 = data[data['사업장명'].str.contains('드롭탑')]\n",
    "c25.shape"
   ]
  },
  {
   "cell_type": "code",
   "execution_count": 307,
   "id": "1682a8e9",
   "metadata": {},
   "outputs": [
    {
     "data": {
      "text/plain": [
       "(0, 13)"
      ]
     },
     "execution_count": 307,
     "metadata": {},
     "output_type": "execute_result"
    }
   ],
   "source": [
    "c26 = data[data['사업장명'].str.contains('명가커피')]\n",
    "c26.shape"
   ]
  },
  {
   "cell_type": "code",
   "execution_count": 308,
   "id": "e1b6f60b",
   "metadata": {},
   "outputs": [
    {
     "data": {
      "text/plain": [
       "(0, 13)"
      ]
     },
     "execution_count": 308,
     "metadata": {},
     "output_type": "execute_result"
    }
   ],
   "source": [
    "c27 = data[data['사업장명'].str.contains('커피스미스')]\n",
    "c27.shape"
   ]
  },
  {
   "cell_type": "code",
   "execution_count": 309,
   "id": "a6fc05db",
   "metadata": {},
   "outputs": [
    {
     "data": {
      "text/plain": [
       "(2, 13)"
      ]
     },
     "execution_count": 309,
     "metadata": {},
     "output_type": "execute_result"
    }
   ],
   "source": [
    "c28 = data[data['사업장명'].str.contains('커피마마')]\n",
    "c28.shape"
   ]
  },
  {
   "cell_type": "code",
   "execution_count": 310,
   "id": "9a23dfc6",
   "metadata": {},
   "outputs": [
    {
     "data": {
      "text/plain": [
       "(7, 13)"
      ]
     },
     "execution_count": 310,
     "metadata": {},
     "output_type": "execute_result"
    }
   ],
   "source": [
    "c29 = data[data['사업장명'].str.contains('토프레소')]\n",
    "c29.shape"
   ]
  },
  {
   "cell_type": "code",
   "execution_count": 311,
   "id": "1d3df7f7",
   "metadata": {},
   "outputs": [
    {
     "data": {
      "text/plain": [
       "(0, 13)"
      ]
     },
     "execution_count": 311,
     "metadata": {},
     "output_type": "execute_result"
    }
   ],
   "source": [
    "c30 = data[data['사업장명'].str.contains('전광수커피')]\n",
    "c30.shape"
   ]
  },
  {
   "cell_type": "code",
   "execution_count": 312,
   "id": "58d5edb6",
   "metadata": {},
   "outputs": [
    {
     "data": {
      "text/plain": [
       "(1, 13)"
      ]
     },
     "execution_count": 312,
     "metadata": {},
     "output_type": "execute_result"
    }
   ],
   "source": [
    "c31 = data[data['사업장명'].str.contains('빈스빈스')]\n",
    "c31.shape"
   ]
  },
  {
   "cell_type": "code",
   "execution_count": 313,
   "id": "f676ffb9",
   "metadata": {},
   "outputs": [
    {
     "data": {
      "text/plain": [
       "(8, 13)"
      ]
     },
     "execution_count": 313,
     "metadata": {},
     "output_type": "execute_result"
    }
   ],
   "source": [
    "c32 = data[data['사업장명'].str.contains('더카페')]\n",
    "c32.shape"
   ]
  },
  {
   "cell_type": "code",
   "execution_count": 314,
   "id": "4ae171b4",
   "metadata": {},
   "outputs": [
    {
     "data": {
      "text/plain": [
       "(11, 13)"
      ]
     },
     "execution_count": 314,
     "metadata": {},
     "output_type": "execute_result"
    }
   ],
   "source": [
    "c33 = data[data['사업장명'].str.contains('그라찌에')]\n",
    "c33.shape"
   ]
  },
  {
   "cell_type": "code",
   "execution_count": 315,
   "id": "8d479c77",
   "metadata": {},
   "outputs": [
    {
     "data": {
      "text/plain": [
       "(1, 13)"
      ]
     },
     "execution_count": 315,
     "metadata": {},
     "output_type": "execute_result"
    }
   ],
   "source": [
    "c34 = data[data['사업장명'].str.contains('카페보니또')]\n",
    "c34.shape"
   ]
  },
  {
   "cell_type": "markdown",
   "id": "031bfee4",
   "metadata": {},
   "source": [
    "### 검색한 열 합치기"
   ]
  },
  {
   "cell_type": "code",
   "execution_count": 316,
   "id": "303bc57b",
   "metadata": {},
   "outputs": [
    {
     "data": {
      "text/html": [
       "<div>\n",
       "<style scoped>\n",
       "    .dataframe tbody tr th:only-of-type {\n",
       "        vertical-align: middle;\n",
       "    }\n",
       "\n",
       "    .dataframe tbody tr th {\n",
       "        vertical-align: top;\n",
       "    }\n",
       "\n",
       "    .dataframe thead th {\n",
       "        text-align: right;\n",
       "    }\n",
       "</style>\n",
       "<table border=\"1\" class=\"dataframe\">\n",
       "  <thead>\n",
       "    <tr style=\"text-align: right;\">\n",
       "      <th></th>\n",
       "      <th>인허가일자</th>\n",
       "      <th>인허가취소일자</th>\n",
       "      <th>영업상태명</th>\n",
       "      <th>상세영업상태코드</th>\n",
       "      <th>상세영업상태명</th>\n",
       "      <th>폐업일자</th>\n",
       "      <th>소재지면적</th>\n",
       "      <th>지번주소</th>\n",
       "      <th>도로명주소</th>\n",
       "      <th>사업장명</th>\n",
       "      <th>업태구분명</th>\n",
       "      <th>좌표정보(X)</th>\n",
       "      <th>좌표정보(Y)</th>\n",
       "    </tr>\n",
       "  </thead>\n",
       "  <tbody>\n",
       "    <tr>\n",
       "      <th>54</th>\n",
       "      <td>20200715</td>\n",
       "      <td>NaN</td>\n",
       "      <td>영업/정상</td>\n",
       "      <td>1</td>\n",
       "      <td>영업</td>\n",
       "      <td>NaN</td>\n",
       "      <td>15.86</td>\n",
       "      <td>서울특별시 동대문구 제기동 847-7</td>\n",
       "      <td>서울특별시 동대문구 경동시장로9가길 2 1층 (제기동)</td>\n",
       "      <td>커피하우스</td>\n",
       "      <td>기타 휴게음식점</td>\n",
       "      <td>203492.9461</td>\n",
       "      <td>453228.9501</td>\n",
       "    </tr>\n",
       "    <tr>\n",
       "      <th>99</th>\n",
       "      <td>20200113</td>\n",
       "      <td>NaN</td>\n",
       "      <td>영업/정상</td>\n",
       "      <td>1</td>\n",
       "      <td>영업</td>\n",
       "      <td>NaN</td>\n",
       "      <td>34.31</td>\n",
       "      <td>서울특별시 강동구 둔촌동 430번지</td>\n",
       "      <td>서울특별시 강동구 양재대로102길 39 (둔촌동)</td>\n",
       "      <td>월디커피로스터스</td>\n",
       "      <td>기타 휴게음식점</td>\n",
       "      <td>212344.8723</td>\n",
       "      <td>447791.7748</td>\n",
       "    </tr>\n",
       "    <tr>\n",
       "      <th>178</th>\n",
       "      <td>20200721</td>\n",
       "      <td>NaN</td>\n",
       "      <td>영업/정상</td>\n",
       "      <td>1</td>\n",
       "      <td>영업</td>\n",
       "      <td>NaN</td>\n",
       "      <td>18.26</td>\n",
       "      <td>서울특별시 종로구 종로1가 24 르메이에르종로타운1</td>\n",
       "      <td>서울특별시 종로구 종로 19 르메이에르종로타운1 1층 116-1호 (종로1가)</td>\n",
       "      <td>로그인커피</td>\n",
       "      <td>기타 휴게음식점</td>\n",
       "      <td>198150.3004</td>\n",
       "      <td>452019.2126</td>\n",
       "    </tr>\n",
       "    <tr>\n",
       "      <th>188</th>\n",
       "      <td>20200113</td>\n",
       "      <td>NaN</td>\n",
       "      <td>폐업</td>\n",
       "      <td>2</td>\n",
       "      <td>폐업</td>\n",
       "      <td>20200603.0</td>\n",
       "      <td>25.00</td>\n",
       "      <td>서울특별시 마포구 망원동 399-36번지</td>\n",
       "      <td>서울특별시 마포구 포은로 87 1층 (망원동)</td>\n",
       "      <td>스몰커피</td>\n",
       "      <td>기타 휴게음식점</td>\n",
       "      <td>191541.9711</td>\n",
       "      <td>450286.6198</td>\n",
       "    </tr>\n",
       "    <tr>\n",
       "      <th>190</th>\n",
       "      <td>20180921</td>\n",
       "      <td>NaN</td>\n",
       "      <td>폐업</td>\n",
       "      <td>2</td>\n",
       "      <td>폐업</td>\n",
       "      <td>20200717.0</td>\n",
       "      <td>27.30</td>\n",
       "      <td>서울특별시 마포구 동교동 188-24 이끼</td>\n",
       "      <td>서울특별시 마포구 와우산로32길 31-6 이끼 1층 (동교동)</td>\n",
       "      <td>칼마토커피라운지(calmato coffee lounge)</td>\n",
       "      <td>기타 휴게음식점</td>\n",
       "      <td>193902.4492</td>\n",
       "      <td>450303.8818</td>\n",
       "    </tr>\n",
       "    <tr>\n",
       "      <th>...</th>\n",
       "      <td>...</td>\n",
       "      <td>...</td>\n",
       "      <td>...</td>\n",
       "      <td>...</td>\n",
       "      <td>...</td>\n",
       "      <td>...</td>\n",
       "      <td>...</td>\n",
       "      <td>...</td>\n",
       "      <td>...</td>\n",
       "      <td>...</td>\n",
       "      <td>...</td>\n",
       "      <td>...</td>\n",
       "      <td>...</td>\n",
       "    </tr>\n",
       "    <tr>\n",
       "      <th>29016</th>\n",
       "      <td>20021004</td>\n",
       "      <td>NaN</td>\n",
       "      <td>폐업</td>\n",
       "      <td>2</td>\n",
       "      <td>폐업</td>\n",
       "      <td>20061124.0</td>\n",
       "      <td>26.40</td>\n",
       "      <td>서울특별시 양천구 신정동 1032-10번지</td>\n",
       "      <td>NaN</td>\n",
       "      <td>그라찌에(신정점)</td>\n",
       "      <td>기타 휴게음식점</td>\n",
       "      <td>186995.2866</td>\n",
       "      <td>446337.4309</td>\n",
       "    </tr>\n",
       "    <tr>\n",
       "      <th>56438</th>\n",
       "      <td>20200915</td>\n",
       "      <td>NaN</td>\n",
       "      <td>영업/정상</td>\n",
       "      <td>1</td>\n",
       "      <td>영업</td>\n",
       "      <td>NaN</td>\n",
       "      <td>67.83</td>\n",
       "      <td>서울특별시 노원구 공릉동 126 서울여자대학교</td>\n",
       "      <td>서울특별시 노원구 화랑로 621 서울여자대학교 1층 (공릉동)</td>\n",
       "      <td>그라찌에 서울여대점</td>\n",
       "      <td>기타 휴게음식점</td>\n",
       "      <td>207918.3204</td>\n",
       "      <td>458383.9834</td>\n",
       "    </tr>\n",
       "    <tr>\n",
       "      <th>56848</th>\n",
       "      <td>20111215</td>\n",
       "      <td>NaN</td>\n",
       "      <td>영업/정상</td>\n",
       "      <td>1</td>\n",
       "      <td>영업</td>\n",
       "      <td>NaN</td>\n",
       "      <td>22.50</td>\n",
       "      <td>서울특별시 성북구 삼선동2가 389 한성대학교 미래관 지하1층</td>\n",
       "      <td>서울특별시 성북구 삼선교로16길 116 (삼선동2가)</td>\n",
       "      <td>그라찌에 한성대학교점</td>\n",
       "      <td>기타 휴게음식점</td>\n",
       "      <td>200836.1699</td>\n",
       "      <td>453384.7261</td>\n",
       "    </tr>\n",
       "    <tr>\n",
       "      <th>59077</th>\n",
       "      <td>20150904</td>\n",
       "      <td>NaN</td>\n",
       "      <td>폐업</td>\n",
       "      <td>2</td>\n",
       "      <td>폐업</td>\n",
       "      <td>20210318.0</td>\n",
       "      <td>69.30</td>\n",
       "      <td>서울특별시 광진구 화양동 1 건국대내 생명과학관1층</td>\n",
       "      <td>서울특별시 광진구 능동로 120 (화양동 건국대내 생명과학관1층)</td>\n",
       "      <td>그라찌에 건국대생명과학관점</td>\n",
       "      <td>기타 휴게음식점</td>\n",
       "      <td>206445.8811</td>\n",
       "      <td>448922.8817</td>\n",
       "    </tr>\n",
       "    <tr>\n",
       "      <th>58409</th>\n",
       "      <td>20100713</td>\n",
       "      <td>NaN</td>\n",
       "      <td>폐업</td>\n",
       "      <td>2</td>\n",
       "      <td>폐업</td>\n",
       "      <td>20210122.0</td>\n",
       "      <td>52.80</td>\n",
       "      <td>서울특별시 송파구 잠실동 298-9 지상1층</td>\n",
       "      <td>서울특별시 송파구 백제고분로12길 14 지상1층 (잠실동)</td>\n",
       "      <td>카페보니또 잠실점</td>\n",
       "      <td>기타 휴게음식점</td>\n",
       "      <td>207058.4226</td>\n",
       "      <td>444759.8879</td>\n",
       "    </tr>\n",
       "  </tbody>\n",
       "</table>\n",
       "<p>1848 rows × 13 columns</p>\n",
       "</div>"
      ],
      "text/plain": [
       "          인허가일자  인허가취소일자  영업상태명  상세영업상태코드 상세영업상태명        폐업일자  소재지면적  \\\n",
       "54     20200715      NaN  영업/정상         1      영업         NaN  15.86   \n",
       "99     20200113      NaN  영업/정상         1      영업         NaN  34.31   \n",
       "178    20200721      NaN  영업/정상         1      영업         NaN  18.26   \n",
       "188    20200113      NaN     폐업         2      폐업  20200603.0  25.00   \n",
       "190    20180921      NaN     폐업         2      폐업  20200717.0  27.30   \n",
       "...         ...      ...    ...       ...     ...         ...    ...   \n",
       "29016  20021004      NaN     폐업         2      폐업  20061124.0  26.40   \n",
       "56438  20200915      NaN  영업/정상         1      영업         NaN  67.83   \n",
       "56848  20111215      NaN  영업/정상         1      영업         NaN  22.50   \n",
       "59077  20150904      NaN     폐업         2      폐업  20210318.0  69.30   \n",
       "58409  20100713      NaN     폐업         2      폐업  20210122.0  52.80   \n",
       "\n",
       "                                     지번주소  \\\n",
       "54                   서울특별시 동대문구 제기동 847-7   \n",
       "99                    서울특별시 강동구 둔촌동 430번지   \n",
       "178          서울특별시 종로구 종로1가 24 르메이에르종로타운1   \n",
       "188                서울특별시 마포구 망원동 399-36번지   \n",
       "190               서울특별시 마포구 동교동 188-24 이끼   \n",
       "...                                   ...   \n",
       "29016            서울특별시 양천구 신정동 1032-10번지    \n",
       "56438           서울특별시 노원구 공릉동 126 서울여자대학교   \n",
       "56848  서울특별시 성북구 삼선동2가 389 한성대학교 미래관 지하1층   \n",
       "59077        서울특별시 광진구 화양동 1 건국대내 생명과학관1층   \n",
       "58409            서울특별시 송파구 잠실동 298-9 지상1층   \n",
       "\n",
       "                                             도로명주소  \\\n",
       "54                  서울특별시 동대문구 경동시장로9가길 2 1층 (제기동)   \n",
       "99                     서울특별시 강동구 양재대로102길 39 (둔촌동)   \n",
       "178    서울특별시 종로구 종로 19 르메이에르종로타운1 1층 116-1호 (종로1가)   \n",
       "188                      서울특별시 마포구 포은로 87 1층 (망원동)   \n",
       "190             서울특별시 마포구 와우산로32길 31-6 이끼 1층 (동교동)   \n",
       "...                                            ...   \n",
       "29016                                          NaN   \n",
       "56438           서울특별시 노원구 화랑로 621 서울여자대학교 1층 (공릉동)   \n",
       "56848                서울특별시 성북구 삼선교로16길 116 (삼선동2가)   \n",
       "59077         서울특별시 광진구 능동로 120 (화양동 건국대내 생명과학관1층)   \n",
       "58409             서울특별시 송파구 백제고분로12길 14 지상1층 (잠실동)   \n",
       "\n",
       "                                  사업장명     업태구분명      좌표정보(X)      좌표정보(Y)  \n",
       "54                               커피하우스  기타 휴게음식점  203492.9461  453228.9501  \n",
       "99                            월디커피로스터스  기타 휴게음식점  212344.8723  447791.7748  \n",
       "178                              로그인커피  기타 휴게음식점  198150.3004  452019.2126  \n",
       "188                               스몰커피  기타 휴게음식점  191541.9711  450286.6198  \n",
       "190    칼마토커피라운지(calmato coffee lounge)  기타 휴게음식점  193902.4492  450303.8818  \n",
       "...                                ...       ...          ...          ...  \n",
       "29016                        그라찌에(신정점)  기타 휴게음식점  186995.2866  446337.4309  \n",
       "56438                       그라찌에 서울여대점  기타 휴게음식점  207918.3204  458383.9834  \n",
       "56848                      그라찌에 한성대학교점  기타 휴게음식점  200836.1699  453384.7261  \n",
       "59077                   그라찌에 건국대생명과학관점  기타 휴게음식점  206445.8811  448922.8817  \n",
       "58409                        카페보니또 잠실점  기타 휴게음식점  207058.4226  444759.8879  \n",
       "\n",
       "[1848 rows x 13 columns]"
      ]
     },
     "execution_count": 316,
     "metadata": {},
     "output_type": "execute_result"
    }
   ],
   "source": [
    "d1 = pd.concat([c1,c2,c3,c3,c5,c6,c7,c8,c9,c10,c11,c12,c13,c14,c15,c16,c17,c18,c19,c20,c21,c22,c23,c24,c25,c26,c27,c28,c29,c30,c31,c32,c33,c34], axis=0)\n",
    "d1"
   ]
  },
  {
   "cell_type": "code",
   "execution_count": 317,
   "id": "a0c18659",
   "metadata": {},
   "outputs": [
    {
     "data": {
      "text/plain": [
       "<bound method Series.unique of 54                                 커피하우스\n",
       "99                              월디커피로스터스\n",
       "178                                로그인커피\n",
       "188                                 스몰커피\n",
       "190      칼마토커피라운지(calmato coffee lounge)\n",
       "                      ...               \n",
       "29016                          그라찌에(신정점)\n",
       "56438                         그라찌에 서울여대점\n",
       "56848                        그라찌에 한성대학교점\n",
       "59077                     그라찌에 건국대생명과학관점\n",
       "58409                          카페보니또 잠실점\n",
       "Name: 사업장명, Length: 1848, dtype: object>"
      ]
     },
     "execution_count": 317,
     "metadata": {},
     "output_type": "execute_result"
    }
   ],
   "source": [
    "d1['사업장명'].unique"
   ]
  },
  {
   "cell_type": "code",
   "execution_count": 318,
   "id": "2c89f5d5",
   "metadata": {},
   "outputs": [
    {
     "data": {
      "text/html": [
       "<div>\n",
       "<style scoped>\n",
       "    .dataframe tbody tr th:only-of-type {\n",
       "        vertical-align: middle;\n",
       "    }\n",
       "\n",
       "    .dataframe tbody tr th {\n",
       "        vertical-align: top;\n",
       "    }\n",
       "\n",
       "    .dataframe thead th {\n",
       "        text-align: right;\n",
       "    }\n",
       "</style>\n",
       "<table border=\"1\" class=\"dataframe\">\n",
       "  <thead>\n",
       "    <tr style=\"text-align: right;\">\n",
       "      <th></th>\n",
       "      <th>인허가일자</th>\n",
       "      <th>인허가취소일자</th>\n",
       "      <th>영업상태명</th>\n",
       "      <th>상세영업상태코드</th>\n",
       "      <th>상세영업상태명</th>\n",
       "      <th>폐업일자</th>\n",
       "      <th>소재지면적</th>\n",
       "      <th>지번주소</th>\n",
       "      <th>도로명주소</th>\n",
       "      <th>사업장명</th>\n",
       "      <th>업태구분명</th>\n",
       "      <th>좌표정보(X)</th>\n",
       "      <th>좌표정보(Y)</th>\n",
       "    </tr>\n",
       "  </thead>\n",
       "  <tbody>\n",
       "    <tr>\n",
       "      <th>54</th>\n",
       "      <td>20200715</td>\n",
       "      <td>NaN</td>\n",
       "      <td>영업/정상</td>\n",
       "      <td>1</td>\n",
       "      <td>영업</td>\n",
       "      <td>NaN</td>\n",
       "      <td>15.86</td>\n",
       "      <td>서울특별시 동대문구 제기동 847-7</td>\n",
       "      <td>서울특별시 동대문구 경동시장로9가길 2 1층 (제기동)</td>\n",
       "      <td>커피하우스</td>\n",
       "      <td>기타 휴게음식점</td>\n",
       "      <td>203492.9461</td>\n",
       "      <td>453228.9501</td>\n",
       "    </tr>\n",
       "    <tr>\n",
       "      <th>65</th>\n",
       "      <td>20200715</td>\n",
       "      <td>NaN</td>\n",
       "      <td>영업/정상</td>\n",
       "      <td>1</td>\n",
       "      <td>영업</td>\n",
       "      <td>NaN</td>\n",
       "      <td>44.45</td>\n",
       "      <td>서울특별시 마포구 상암동 1740 월드컵파크 프라자</td>\n",
       "      <td>서울특별시 마포구 월드컵북로 502 월드컵파크 프라자 1층 107호 (상암동)</td>\n",
       "      <td>카페게이트 상암하늘초점</td>\n",
       "      <td>기타 휴게음식점</td>\n",
       "      <td>189315.3706</td>\n",
       "      <td>453647.3493</td>\n",
       "    </tr>\n",
       "    <tr>\n",
       "      <th>79</th>\n",
       "      <td>20200716</td>\n",
       "      <td>NaN</td>\n",
       "      <td>영업/정상</td>\n",
       "      <td>1</td>\n",
       "      <td>영업</td>\n",
       "      <td>NaN</td>\n",
       "      <td>41.34</td>\n",
       "      <td>서울특별시 강서구 등촌동 717 그레이스힐 B209호</td>\n",
       "      <td>서울특별시 강서구 양천로 470 그레이스힐 지하2층 B-209호 (등촌동)</td>\n",
       "      <td>24시무인카페RO</td>\n",
       "      <td>기타 휴게음식점</td>\n",
       "      <td>186899.2415</td>\n",
       "      <td>451093.0222</td>\n",
       "    </tr>\n",
       "    <tr>\n",
       "      <th>94</th>\n",
       "      <td>20200716</td>\n",
       "      <td>NaN</td>\n",
       "      <td>영업/정상</td>\n",
       "      <td>1</td>\n",
       "      <td>영업</td>\n",
       "      <td>NaN</td>\n",
       "      <td>364.62</td>\n",
       "      <td>서울특별시 마포구 서교동 358-58 태윤빌딩</td>\n",
       "      <td>서울특별시 마포구 와우산로21길 36-3 태윤빌딩 2~4층 (서교동)</td>\n",
       "      <td>투썸플레이스 홍대예술의거리점</td>\n",
       "      <td>기타 휴게음식점</td>\n",
       "      <td>193020.6534</td>\n",
       "      <td>450030.6293</td>\n",
       "    </tr>\n",
       "    <tr>\n",
       "      <th>99</th>\n",
       "      <td>20200113</td>\n",
       "      <td>NaN</td>\n",
       "      <td>영업/정상</td>\n",
       "      <td>1</td>\n",
       "      <td>영업</td>\n",
       "      <td>NaN</td>\n",
       "      <td>34.31</td>\n",
       "      <td>서울특별시 강동구 둔촌동 430번지</td>\n",
       "      <td>서울특별시 강동구 양재대로102길 39 (둔촌동)</td>\n",
       "      <td>월디커피로스터스</td>\n",
       "      <td>기타 휴게음식점</td>\n",
       "      <td>212344.8723</td>\n",
       "      <td>447791.7748</td>\n",
       "    </tr>\n",
       "    <tr>\n",
       "      <th>...</th>\n",
       "      <td>...</td>\n",
       "      <td>...</td>\n",
       "      <td>...</td>\n",
       "      <td>...</td>\n",
       "      <td>...</td>\n",
       "      <td>...</td>\n",
       "      <td>...</td>\n",
       "      <td>...</td>\n",
       "      <td>...</td>\n",
       "      <td>...</td>\n",
       "      <td>...</td>\n",
       "      <td>...</td>\n",
       "      <td>...</td>\n",
       "    </tr>\n",
       "    <tr>\n",
       "      <th>63172</th>\n",
       "      <td>20211122</td>\n",
       "      <td>NaN</td>\n",
       "      <td>폐업</td>\n",
       "      <td>2</td>\n",
       "      <td>폐업</td>\n",
       "      <td>20211128.0</td>\n",
       "      <td>0.00</td>\n",
       "      <td>서울특별시 서초구 양재동 232 AT센터 제1전시장 1층</td>\n",
       "      <td>서울특별시 서초구 강남대로 27 AT센터 제1전시장 1층 (양재동)</td>\n",
       "      <td>카페큐브</td>\n",
       "      <td>기타 휴게음식점</td>\n",
       "      <td>203392.7935</td>\n",
       "      <td>440676.3799</td>\n",
       "    </tr>\n",
       "    <tr>\n",
       "      <th>63225</th>\n",
       "      <td>20211201</td>\n",
       "      <td>NaN</td>\n",
       "      <td>영업/정상</td>\n",
       "      <td>1</td>\n",
       "      <td>영업</td>\n",
       "      <td>NaN</td>\n",
       "      <td>33.00</td>\n",
       "      <td>서울특별시 강북구 수유동 10-32</td>\n",
       "      <td>서울특별시 강북구 노해로11길 9 101호 (수유동)</td>\n",
       "      <td>펠어커피초코</td>\n",
       "      <td>기타 휴게음식점</td>\n",
       "      <td>201885.6884</td>\n",
       "      <td>459615.9318</td>\n",
       "    </tr>\n",
       "    <tr>\n",
       "      <th>63250</th>\n",
       "      <td>20211202</td>\n",
       "      <td>NaN</td>\n",
       "      <td>영업/정상</td>\n",
       "      <td>1</td>\n",
       "      <td>영업</td>\n",
       "      <td>NaN</td>\n",
       "      <td>31.00</td>\n",
       "      <td>서울특별시 은평구 대조동 224-18</td>\n",
       "      <td>서울특별시 은평구 연서로 144 1층 (대조동)</td>\n",
       "      <td>컴포즈커피</td>\n",
       "      <td>기타 휴게음식점</td>\n",
       "      <td>192656.1168</td>\n",
       "      <td>456593.9995</td>\n",
       "    </tr>\n",
       "    <tr>\n",
       "      <th>63258</th>\n",
       "      <td>20211201</td>\n",
       "      <td>NaN</td>\n",
       "      <td>영업/정상</td>\n",
       "      <td>1</td>\n",
       "      <td>영업</td>\n",
       "      <td>NaN</td>\n",
       "      <td>23.00</td>\n",
       "      <td>서울특별시 은평구 신사동 342-20</td>\n",
       "      <td>서울특별시 은평구 증산로15길 30 1층 (신사동)</td>\n",
       "      <td>파파베어커피</td>\n",
       "      <td>기타 휴게음식점</td>\n",
       "      <td>192007.8893</td>\n",
       "      <td>454179.4221</td>\n",
       "    </tr>\n",
       "    <tr>\n",
       "      <th>63348</th>\n",
       "      <td>20130806</td>\n",
       "      <td>NaN</td>\n",
       "      <td>영업/정상</td>\n",
       "      <td>1</td>\n",
       "      <td>영업</td>\n",
       "      <td>NaN</td>\n",
       "      <td>130.15</td>\n",
       "      <td>서울특별시 성북구 길음동 20-1 현대백화점미아점 9층</td>\n",
       "      <td>서울특별시 성북구 동소문로 315 (길음동 현대백화점미아점 9층)</td>\n",
       "      <td>키커피컴퍼니</td>\n",
       "      <td>기타 휴게음식점</td>\n",
       "      <td>202466.8011</td>\n",
       "      <td>456227.5717</td>\n",
       "    </tr>\n",
       "  </tbody>\n",
       "</table>\n",
       "<p>1848 rows × 13 columns</p>\n",
       "</div>"
      ],
      "text/plain": [
       "          인허가일자  인허가취소일자  영업상태명  상세영업상태코드 상세영업상태명        폐업일자   소재지면적  \\\n",
       "54     20200715      NaN  영업/정상         1      영업         NaN   15.86   \n",
       "65     20200715      NaN  영업/정상         1      영업         NaN   44.45   \n",
       "79     20200716      NaN  영업/정상         1      영업         NaN   41.34   \n",
       "94     20200716      NaN  영업/정상         1      영업         NaN  364.62   \n",
       "99     20200113      NaN  영업/정상         1      영업         NaN   34.31   \n",
       "...         ...      ...    ...       ...     ...         ...     ...   \n",
       "63172  20211122      NaN     폐업         2      폐업  20211128.0    0.00   \n",
       "63225  20211201      NaN  영업/정상         1      영업         NaN   33.00   \n",
       "63250  20211202      NaN  영업/정상         1      영업         NaN   31.00   \n",
       "63258  20211201      NaN  영업/정상         1      영업         NaN   23.00   \n",
       "63348  20130806      NaN  영업/정상         1      영업         NaN  130.15   \n",
       "\n",
       "                                  지번주소  \\\n",
       "54                서울특별시 동대문구 제기동 847-7   \n",
       "65        서울특별시 마포구 상암동 1740 월드컵파크 프라자   \n",
       "79       서울특별시 강서구 등촌동 717 그레이스힐 B209호   \n",
       "94           서울특별시 마포구 서교동 358-58 태윤빌딩   \n",
       "99                 서울특별시 강동구 둔촌동 430번지   \n",
       "...                                ...   \n",
       "63172  서울특별시 서초구 양재동 232 AT센터 제1전시장 1층   \n",
       "63225              서울특별시 강북구 수유동 10-32   \n",
       "63250             서울특별시 은평구 대조동 224-18   \n",
       "63258             서울특별시 은평구 신사동 342-20   \n",
       "63348   서울특별시 성북구 길음동 20-1 현대백화점미아점 9층   \n",
       "\n",
       "                                             도로명주소             사업장명     업태구분명  \\\n",
       "54                  서울특별시 동대문구 경동시장로9가길 2 1층 (제기동)            커피하우스  기타 휴게음식점   \n",
       "65     서울특별시 마포구 월드컵북로 502 월드컵파크 프라자 1층 107호 (상암동)     카페게이트 상암하늘초점  기타 휴게음식점   \n",
       "79       서울특별시 강서구 양천로 470 그레이스힐 지하2층 B-209호 (등촌동)        24시무인카페RO  기타 휴게음식점   \n",
       "94          서울특별시 마포구 와우산로21길 36-3 태윤빌딩 2~4층 (서교동)  투썸플레이스 홍대예술의거리점  기타 휴게음식점   \n",
       "99                     서울특별시 강동구 양재대로102길 39 (둔촌동)         월디커피로스터스  기타 휴게음식점   \n",
       "...                                            ...              ...       ...   \n",
       "63172        서울특별시 서초구 강남대로 27 AT센터 제1전시장 1층 (양재동)             카페큐브  기타 휴게음식점   \n",
       "63225                서울특별시 강북구 노해로11길 9 101호 (수유동)           펠어커피초코  기타 휴게음식점   \n",
       "63250                   서울특별시 은평구 연서로 144 1층 (대조동)            컴포즈커피  기타 휴게음식점   \n",
       "63258                 서울특별시 은평구 증산로15길 30 1층 (신사동)           파파베어커피  기타 휴게음식점   \n",
       "63348         서울특별시 성북구 동소문로 315 (길음동 현대백화점미아점 9층)           키커피컴퍼니  기타 휴게음식점   \n",
       "\n",
       "           좌표정보(X)      좌표정보(Y)  \n",
       "54     203492.9461  453228.9501  \n",
       "65     189315.3706  453647.3493  \n",
       "79     186899.2415  451093.0222  \n",
       "94     193020.6534  450030.6293  \n",
       "99     212344.8723  447791.7748  \n",
       "...            ...          ...  \n",
       "63172  203392.7935  440676.3799  \n",
       "63225  201885.6884  459615.9318  \n",
       "63250  192656.1168  456593.9995  \n",
       "63258  192007.8893  454179.4221  \n",
       "63348  202466.8011  456227.5717  \n",
       "\n",
       "[1848 rows x 13 columns]"
      ]
     },
     "execution_count": 318,
     "metadata": {},
     "output_type": "execute_result"
    }
   ],
   "source": [
    "d1.sort_index(ascending=True)"
   ]
  },
  {
   "cell_type": "markdown",
   "id": "b371bb4c",
   "metadata": {},
   "source": [
    "### 중복 열 제거"
   ]
  },
  {
   "cell_type": "code",
   "execution_count": 319,
   "id": "ee4c6c24",
   "metadata": {},
   "outputs": [
    {
     "data": {
      "text/plain": [
       "(1585, 13)"
      ]
     },
     "execution_count": 319,
     "metadata": {},
     "output_type": "execute_result"
    }
   ],
   "source": [
    "d1 = d1.drop_duplicates()\n",
    "d1.shape"
   ]
  },
  {
   "cell_type": "markdown",
   "id": "952eb56e",
   "metadata": {},
   "source": [
    "## 업태구분명(커피숍+다방+기타휴게음식점) 합치기"
   ]
  },
  {
   "cell_type": "code",
   "execution_count": 326,
   "id": "126a7994",
   "metadata": {},
   "outputs": [
    {
     "data": {
      "text/plain": [
       "(48721, 13)"
      ]
     },
     "execution_count": 326,
     "metadata": {},
     "output_type": "execute_result"
    }
   ],
   "source": [
    "df = pd.concat([df1, df2, d1], axis=0)\n",
    "df.shape"
   ]
  },
  {
   "cell_type": "code",
   "execution_count": 327,
   "id": "e26a099a",
   "metadata": {},
   "outputs": [
    {
     "data": {
      "text/html": [
       "<div>\n",
       "<style scoped>\n",
       "    .dataframe tbody tr th:only-of-type {\n",
       "        vertical-align: middle;\n",
       "    }\n",
       "\n",
       "    .dataframe tbody tr th {\n",
       "        vertical-align: top;\n",
       "    }\n",
       "\n",
       "    .dataframe thead th {\n",
       "        text-align: right;\n",
       "    }\n",
       "</style>\n",
       "<table border=\"1\" class=\"dataframe\">\n",
       "  <thead>\n",
       "    <tr style=\"text-align: right;\">\n",
       "      <th></th>\n",
       "      <th>인허가일자</th>\n",
       "      <th>인허가취소일자</th>\n",
       "      <th>영업상태명</th>\n",
       "      <th>상세영업상태코드</th>\n",
       "      <th>상세영업상태명</th>\n",
       "      <th>폐업일자</th>\n",
       "      <th>소재지면적</th>\n",
       "      <th>지번주소</th>\n",
       "      <th>도로명주소</th>\n",
       "      <th>사업장명</th>\n",
       "      <th>업태구분명</th>\n",
       "      <th>좌표정보(X)</th>\n",
       "      <th>좌표정보(Y)</th>\n",
       "    </tr>\n",
       "  </thead>\n",
       "  <tbody>\n",
       "    <tr>\n",
       "      <th>0</th>\n",
       "      <td>20200713</td>\n",
       "      <td>NaN</td>\n",
       "      <td>영업/정상</td>\n",
       "      <td>1</td>\n",
       "      <td>영업</td>\n",
       "      <td>NaN</td>\n",
       "      <td>329.89</td>\n",
       "      <td>서울특별시 송파구 방이동 44-3 현대토픽스</td>\n",
       "      <td>서울특별시 송파구 위례성대로 6 1층 (방이동)</td>\n",
       "      <td>스타벅스 몽촌토성역점</td>\n",
       "      <td>커피숍</td>\n",
       "      <td>209929.5748</td>\n",
       "      <td>446085.1213</td>\n",
       "    </tr>\n",
       "    <tr>\n",
       "      <th>1</th>\n",
       "      <td>20200713</td>\n",
       "      <td>NaN</td>\n",
       "      <td>영업/정상</td>\n",
       "      <td>1</td>\n",
       "      <td>영업</td>\n",
       "      <td>NaN</td>\n",
       "      <td>26.00</td>\n",
       "      <td>서울특별시 동대문구 전농동 38-104</td>\n",
       "      <td>서울특별시 동대문구 전농로16길 54 1층 (전농동)</td>\n",
       "      <td>Min's coffee</td>\n",
       "      <td>커피숍</td>\n",
       "      <td>205263.8264</td>\n",
       "      <td>452869.9925</td>\n",
       "    </tr>\n",
       "    <tr>\n",
       "      <th>2</th>\n",
       "      <td>20200713</td>\n",
       "      <td>NaN</td>\n",
       "      <td>영업/정상</td>\n",
       "      <td>1</td>\n",
       "      <td>영업</td>\n",
       "      <td>NaN</td>\n",
       "      <td>15.46</td>\n",
       "      <td>서울특별시 강서구 마곡동 773 힐스테이트에코마곡역 302호</td>\n",
       "      <td>서울특별시 강서구 마곡중앙로 76 힐스테이트에코마곡역 3층 302호 (마곡동)</td>\n",
       "      <td>티오르카페</td>\n",
       "      <td>커피숍</td>\n",
       "      <td>NaN</td>\n",
       "      <td>NaN</td>\n",
       "    </tr>\n",
       "    <tr>\n",
       "      <th>3</th>\n",
       "      <td>20200713</td>\n",
       "      <td>NaN</td>\n",
       "      <td>영업/정상</td>\n",
       "      <td>1</td>\n",
       "      <td>영업</td>\n",
       "      <td>NaN</td>\n",
       "      <td>13.20</td>\n",
       "      <td>서울특별시 관악구 신림동 608-30</td>\n",
       "      <td>서울특별시 관악구 난우길 20 지하1층 (신림동)</td>\n",
       "      <td>애견용품할인매장</td>\n",
       "      <td>커피숍</td>\n",
       "      <td>192733.8329</td>\n",
       "      <td>441403.5423</td>\n",
       "    </tr>\n",
       "    <tr>\n",
       "      <th>4</th>\n",
       "      <td>20200713</td>\n",
       "      <td>NaN</td>\n",
       "      <td>영업/정상</td>\n",
       "      <td>1</td>\n",
       "      <td>영업</td>\n",
       "      <td>NaN</td>\n",
       "      <td>247.50</td>\n",
       "      <td>서울특별시 성북구 성북동 8-28</td>\n",
       "      <td>서울특별시 성북구 선잠로2다길 13-13 지하1층 (성북동)</td>\n",
       "      <td>오버스토리</td>\n",
       "      <td>커피숍</td>\n",
       "      <td>199901.9764</td>\n",
       "      <td>455159.3438</td>\n",
       "    </tr>\n",
       "    <tr>\n",
       "      <th>...</th>\n",
       "      <td>...</td>\n",
       "      <td>...</td>\n",
       "      <td>...</td>\n",
       "      <td>...</td>\n",
       "      <td>...</td>\n",
       "      <td>...</td>\n",
       "      <td>...</td>\n",
       "      <td>...</td>\n",
       "      <td>...</td>\n",
       "      <td>...</td>\n",
       "      <td>...</td>\n",
       "      <td>...</td>\n",
       "      <td>...</td>\n",
       "    </tr>\n",
       "    <tr>\n",
       "      <th>63345</th>\n",
       "      <td>20141016</td>\n",
       "      <td>NaN</td>\n",
       "      <td>폐업</td>\n",
       "      <td>2</td>\n",
       "      <td>폐업</td>\n",
       "      <td>20211207.0</td>\n",
       "      <td>10.00</td>\n",
       "      <td>서울특별시 관악구 신림동 1432-138</td>\n",
       "      <td>서울특별시 관악구 신림로67길 24 1층 (신림동)</td>\n",
       "      <td>쉼표(Shym Pyo)</td>\n",
       "      <td>커피숍</td>\n",
       "      <td>193556.1658</td>\n",
       "      <td>442641.2897</td>\n",
       "    </tr>\n",
       "    <tr>\n",
       "      <th>63346</th>\n",
       "      <td>20140807</td>\n",
       "      <td>NaN</td>\n",
       "      <td>폐업</td>\n",
       "      <td>2</td>\n",
       "      <td>폐업</td>\n",
       "      <td>20211207.0</td>\n",
       "      <td>26.40</td>\n",
       "      <td>서울특별시 광진구 자양동 229-1 (1층)</td>\n",
       "      <td>서울특별시 광진구 아차산로44길 41 1층 (자양동)</td>\n",
       "      <td>카페주전자</td>\n",
       "      <td>커피숍</td>\n",
       "      <td>206892.0792</td>\n",
       "      <td>448225.6910</td>\n",
       "    </tr>\n",
       "    <tr>\n",
       "      <th>63347</th>\n",
       "      <td>20140319</td>\n",
       "      <td>NaN</td>\n",
       "      <td>폐업</td>\n",
       "      <td>2</td>\n",
       "      <td>폐업</td>\n",
       "      <td>20211207.0</td>\n",
       "      <td>77.40</td>\n",
       "      <td>서울특별시 강서구 염창동 248-3 삼성하나로아파트상가 1층 104~105호</td>\n",
       "      <td>서울특별시 강서구 양천로73길 5 1층 104~105호 (염창동 삼성하나로아파트상가)</td>\n",
       "      <td>커피베이 강서염창점</td>\n",
       "      <td>커피숍</td>\n",
       "      <td>188611.3283</td>\n",
       "      <td>449936.9551</td>\n",
       "    </tr>\n",
       "    <tr>\n",
       "      <th>63348</th>\n",
       "      <td>20130806</td>\n",
       "      <td>NaN</td>\n",
       "      <td>영업/정상</td>\n",
       "      <td>1</td>\n",
       "      <td>영업</td>\n",
       "      <td>NaN</td>\n",
       "      <td>130.15</td>\n",
       "      <td>서울특별시 성북구 길음동 20-1 현대백화점미아점 9층</td>\n",
       "      <td>서울특별시 성북구 동소문로 315 (길음동 현대백화점미아점 9층)</td>\n",
       "      <td>키커피컴퍼니</td>\n",
       "      <td>기타 휴게음식점</td>\n",
       "      <td>202466.8011</td>\n",
       "      <td>456227.5717</td>\n",
       "    </tr>\n",
       "    <tr>\n",
       "      <th>63349</th>\n",
       "      <td>20111021</td>\n",
       "      <td>NaN</td>\n",
       "      <td>폐업</td>\n",
       "      <td>2</td>\n",
       "      <td>폐업</td>\n",
       "      <td>20211207.0</td>\n",
       "      <td>24.00</td>\n",
       "      <td>서울특별시 강서구 방화동 886-0 김포공항 공항철도역 (지하 3층)</td>\n",
       "      <td>서울특별시 강서구 하늘길 지하 77 3층 (방화동 2동 김포공항 공항철도역)</td>\n",
       "      <td>델트렌 김포공항역지점</td>\n",
       "      <td>커피숍</td>\n",
       "      <td>182524.8238</td>\n",
       "      <td>451438.2509</td>\n",
       "    </tr>\n",
       "  </tbody>\n",
       "</table>\n",
       "<p>48721 rows × 13 columns</p>\n",
       "</div>"
      ],
      "text/plain": [
       "          인허가일자  인허가취소일자  영업상태명  상세영업상태코드 상세영업상태명        폐업일자   소재지면적  \\\n",
       "0      20200713      NaN  영업/정상         1      영업         NaN  329.89   \n",
       "1      20200713      NaN  영업/정상         1      영업         NaN   26.00   \n",
       "2      20200713      NaN  영업/정상         1      영업         NaN   15.46   \n",
       "3      20200713      NaN  영업/정상         1      영업         NaN   13.20   \n",
       "4      20200713      NaN  영업/정상         1      영업         NaN  247.50   \n",
       "...         ...      ...    ...       ...     ...         ...     ...   \n",
       "63345  20141016      NaN     폐업         2      폐업  20211207.0   10.00   \n",
       "63346  20140807      NaN     폐업         2      폐업  20211207.0   26.40   \n",
       "63347  20140319      NaN     폐업         2      폐업  20211207.0   77.40   \n",
       "63348  20130806      NaN  영업/정상         1      영업         NaN  130.15   \n",
       "63349  20111021      NaN     폐업         2      폐업  20211207.0   24.00   \n",
       "\n",
       "                                             지번주소  \\\n",
       "0                        서울특별시 송파구 방이동 44-3 현대토픽스   \n",
       "1                           서울특별시 동대문구 전농동 38-104   \n",
       "2               서울특별시 강서구 마곡동 773 힐스테이트에코마곡역 302호   \n",
       "3                            서울특별시 관악구 신림동 608-30   \n",
       "4                              서울특별시 성북구 성북동 8-28   \n",
       "...                                           ...   \n",
       "63345                      서울특별시 관악구 신림동 1432-138   \n",
       "63346                    서울특별시 광진구 자양동 229-1 (1층)   \n",
       "63347  서울특별시 강서구 염창동 248-3 삼성하나로아파트상가 1층 104~105호   \n",
       "63348              서울특별시 성북구 길음동 20-1 현대백화점미아점 9층   \n",
       "63349      서울특별시 강서구 방화동 886-0 김포공항 공항철도역 (지하 3층)   \n",
       "\n",
       "                                                 도로명주소          사업장명  \\\n",
       "0                           서울특별시 송파구 위례성대로 6 1층 (방이동)   스타벅스 몽촌토성역점   \n",
       "1                        서울특별시 동대문구 전농로16길 54 1층 (전농동)  Min's coffee   \n",
       "2          서울특별시 강서구 마곡중앙로 76 힐스테이트에코마곡역 3층 302호 (마곡동)         티오르카페   \n",
       "3                          서울특별시 관악구 난우길 20 지하1층 (신림동)      애견용품할인매장   \n",
       "4                    서울특별시 성북구 선잠로2다길 13-13 지하1층 (성북동)         오버스토리   \n",
       "...                                                ...           ...   \n",
       "63345                     서울특별시 관악구 신림로67길 24 1층 (신림동)  쉼표(Shym Pyo)   \n",
       "63346                    서울특별시 광진구 아차산로44길 41 1층 (자양동)         카페주전자   \n",
       "63347  서울특별시 강서구 양천로73길 5 1층 104~105호 (염창동 삼성하나로아파트상가)    커피베이 강서염창점   \n",
       "63348             서울특별시 성북구 동소문로 315 (길음동 현대백화점미아점 9층)        키커피컴퍼니   \n",
       "63349       서울특별시 강서구 하늘길 지하 77 3층 (방화동 2동 김포공항 공항철도역)   델트렌 김포공항역지점   \n",
       "\n",
       "          업태구분명      좌표정보(X)      좌표정보(Y)  \n",
       "0           커피숍  209929.5748  446085.1213  \n",
       "1           커피숍  205263.8264  452869.9925  \n",
       "2           커피숍          NaN          NaN  \n",
       "3           커피숍  192733.8329  441403.5423  \n",
       "4           커피숍  199901.9764  455159.3438  \n",
       "...         ...          ...          ...  \n",
       "63345       커피숍  193556.1658  442641.2897  \n",
       "63346       커피숍  206892.0792  448225.6910  \n",
       "63347       커피숍  188611.3283  449936.9551  \n",
       "63348  기타 휴게음식점  202466.8011  456227.5717  \n",
       "63349       커피숍  182524.8238  451438.2509  \n",
       "\n",
       "[48721 rows x 13 columns]"
      ]
     },
     "execution_count": 327,
     "metadata": {},
     "output_type": "execute_result"
    }
   ],
   "source": [
    "df.sort_index(ascending=True)"
   ]
  },
  {
   "cell_type": "code",
   "execution_count": 329,
   "id": "72676889",
   "metadata": {},
   "outputs": [
    {
     "name": "stdout",
     "output_type": "stream",
     "text": [
      "<class 'pandas.core.frame.DataFrame'>\n",
      "Int64Index: 48721 entries, 0 to 59077\n",
      "Data columns (total 13 columns):\n",
      " #   Column    Non-Null Count  Dtype  \n",
      "---  ------    --------------  -----  \n",
      " 0   인허가일자     48721 non-null  int64  \n",
      " 1   인허가취소일자   0 non-null      float64\n",
      " 2   영업상태명     48721 non-null  object \n",
      " 3   상세영업상태코드  48721 non-null  int64  \n",
      " 4   상세영업상태명   48721 non-null  object \n",
      " 5   폐업일자      31972 non-null  float64\n",
      " 6   소재지면적     45103 non-null  float64\n",
      " 7   지번주소      48671 non-null  object \n",
      " 8   도로명주소     31173 non-null  object \n",
      " 9   사업장명      48721 non-null  object \n",
      " 10  업태구분명     48721 non-null  object \n",
      " 11  좌표정보(X)   46466 non-null  float64\n",
      " 12  좌표정보(Y)   46466 non-null  float64\n",
      "dtypes: float64(5), int64(2), object(6)\n",
      "memory usage: 5.2+ MB\n"
     ]
    }
   ],
   "source": [
    "df.info()"
   ]
  },
  {
   "cell_type": "code",
   "execution_count": null,
   "id": "eb58632d",
   "metadata": {},
   "outputs": [],
   "source": []
  },
  {
   "cell_type": "code",
   "execution_count": 328,
   "id": "c1f7f634",
   "metadata": {},
   "outputs": [],
   "source": [
    "# df.to_csv('seoul_coffee.csv', index=False, encoding='cp949')"
   ]
  }
 ],
 "metadata": {
  "kernelspec": {
   "display_name": "Python 3 (ipykernel)",
   "language": "python",
   "name": "python3"
  },
  "language_info": {
   "codemirror_mode": {
    "name": "ipython",
    "version": 3
   },
   "file_extension": ".py",
   "mimetype": "text/x-python",
   "name": "python",
   "nbconvert_exporter": "python",
   "pygments_lexer": "ipython3",
   "version": "3.9.7"
  },
  "toc": {
   "base_numbering": 1,
   "nav_menu": {},
   "number_sections": true,
   "sideBar": true,
   "skip_h1_title": false,
   "title_cell": "Table of Contents",
   "title_sidebar": "Contents",
   "toc_cell": false,
   "toc_position": {},
   "toc_section_display": true,
   "toc_window_display": false
  }
 },
 "nbformat": 4,
 "nbformat_minor": 5
}
